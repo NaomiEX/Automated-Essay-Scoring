{
 "cells": [
  {
   "cell_type": "markdown",
   "metadata": {},
   "source": [
    "<div style=\"text-align: right; font-size:24px; font-weight: bold\"> FIT1043 Introduction to Data Science </div>\n",
    "<div style=\"text-align: right; font-size:24px; font-weight: bold\"> Assignment 2 </div>\n",
    "<div style=\"text-align: right; font-size:18px; margin-top: 10px\"> Michelle Adeline </div>\n",
    "<div style=\"text-align: right; font-size:18px\"> 31989101 </div>"
   ]
  },
  {
   "cell_type": "markdown",
   "metadata": {},
   "source": [
    "***"
   ]
  },
  {
   "cell_type": "markdown",
   "metadata": {},
   "source": [
    "# Introduction"
   ]
  },
  {
   "cell_type": "markdown",
   "metadata": {},
   "source": [
    "The purpose of this report is to read and preprocess data derived from a set of essays, then conduct predictive analysis on this data using machine learning, and finally to evaluate the accuracy of the predictions. The dataset consists of numeric information on a set of student-written essays and with this information the goal is to create an appropriate machine learning model to perform automated essay scoring.\n",
    "\n",
    "The report has the following outline:\n",
    "1. Introduction\n",
    "2. Downloading and Importing Libraries\n",
    "3. Reading and Describing the Data\n",
    "4. Supervised Learning\n",
    "5. Feature Selection\n",
    "6. Splitting Data into Train/Test Set\n",
    "7. Classification\n",
    "8. Normalization/Standardization\n",
    "8. SVM\n",
    "10. Model Evaluation\n",
    "11. Kaggle Submission\n",
    "12. Conclusion\n",
    "13. References\n",
    "\n",
    "Note that in part 9 - Kaggle Submission, a Random Forest Classifier is used instead of the SVM model."
   ]
  },
  {
   "cell_type": "markdown",
   "metadata": {},
   "source": [
    "# Downloading and Importing Libraries"
   ]
  },
  {
   "cell_type": "markdown",
   "metadata": {},
   "source": [
    "### &emsp;Downloading Libraries"
   ]
  },
  {
   "cell_type": "markdown",
   "metadata": {},
   "source": [
    "The first step is to download the libraries that are used in this report. \n",
    "\n",
    "Here, there is only one library to download and it is *imbalanced-learn* which is an open-source library that provides tools to aid in classification when there are imbalanced classes."
   ]
  },
  {
   "cell_type": "code",
   "execution_count": 1,
   "metadata": {},
   "outputs": [
    {
     "name": "stdout",
     "output_type": "stream",
     "text": [
      "Requirement already satisfied: imbalanced-learn in c:\\users\\lenovo\\anaconda3\\lib\\site-packages (0.8.0)\n",
      "Requirement already satisfied: scipy>=0.19.1 in c:\\users\\lenovo\\anaconda3\\lib\\site-packages (from imbalanced-learn) (1.5.2)\n",
      "Requirement already satisfied: scikit-learn>=0.24 in c:\\users\\lenovo\\anaconda3\\lib\\site-packages (from imbalanced-learn) (0.24.1)\n",
      "Requirement already satisfied: joblib>=0.11 in c:\\users\\lenovo\\anaconda3\\lib\\site-packages (from imbalanced-learn) (0.17.0)\n",
      "Requirement already satisfied: numpy>=1.13.3 in c:\\users\\lenovo\\anaconda3\\lib\\site-packages (from imbalanced-learn) (1.19.2)\n",
      "Requirement already satisfied: threadpoolctl>=2.0.0 in c:\\users\\lenovo\\anaconda3\\lib\\site-packages (from scikit-learn>=0.24->imbalanced-learn) (2.1.0)\n"
     ]
    }
   ],
   "source": [
    "# might need to restart kernel and rerun this cell after installation\n",
    "! pip install imbalanced-learn"
   ]
  },
  {
   "cell_type": "markdown",
   "metadata": {},
   "source": [
    "### &emsp;Importing Libraries"
   ]
  },
  {
   "cell_type": "markdown",
   "metadata": {},
   "source": [
    "After downloading the required libraries, we need to import the necessary libraries and modules:\n",
    "1. **pandas**, which is an open source data analysis tool for python. It allows the usage of convenient data structures such as ***DataFrame*** along with a collection of functions that will greatly aid in reading files and manipulating DataFrames. We can also use the *as* keyword to specify a simpler, and shorter name - *pd* to refer to the library from this point onwards.\n",
    "2. **numpy**, which is an open source python library that is very useful when working with arrays and matrices. It also provides a large collection of mathematical functions to operate on these arrays. Here we use the *as* keyword to specify a simpler, and shorter name - *np* to refer to the library from this point onwards.\n",
    "3. **sklearn**, also known as scikit-learn is an open-source machine learning library for python. It provides easy-to-use tools for predictive data analysis and features a vast range of classification, regression, and clustering algorithms. Here we are importing the various modules in the library instead of just importing the library for ease of use.\n",
    "4. **imblearn**, also known as imbalanced-learn, is an open-source library that can improve accuracy of classification algorithms when there are imbalanced classes\n",
    "5. **collections** is a built-in python module which implements specialized container datatypes but here we are only using the Counter class from this module that is used for counting hashable objects."
   ]
  },
  {
   "cell_type": "code",
   "execution_count": 2,
   "metadata": {},
   "outputs": [],
   "source": [
    "import pandas as pd\n",
    "import numpy as np\n",
    "from sklearn.model_selection import train_test_split, GridSearchCV\n",
    "from sklearn.preprocessing import MinMaxScaler, StandardScaler\n",
    "from sklearn.svm import SVC\n",
    "from sklearn.metrics import confusion_matrix, ConfusionMatrixDisplay, cohen_kappa_score, plot_confusion_matrix\n",
    "from sklearn.ensemble import RandomForestClassifier\n",
    "from sklearn.feature_selection import SelectKBest, f_classif\n",
    "from imblearn.over_sampling import SMOTE\n",
    "from collections import Counter"
   ]
  },
  {
   "cell_type": "markdown",
   "metadata": {},
   "source": [
    "# Reading and Describing the Data"
   ]
  },
  {
   "cell_type": "markdown",
   "metadata": {},
   "source": [
    "### &emsp;Reading Files"
   ]
  },
  {
   "cell_type": "markdown",
   "metadata": {},
   "source": [
    "Read the data from the *'FIT1043-Essay-Features.csv'* file with the *.read_csv* function from pandas and assign the resulting DataFrame to the *essay_data* variable"
   ]
  },
  {
   "cell_type": "code",
   "execution_count": 3,
   "metadata": {},
   "outputs": [],
   "source": [
    "essay_data = pd.read_csv('FIT1043-Essay-Features.csv')"
   ]
  },
  {
   "cell_type": "markdown",
   "metadata": {},
   "source": [
    "#### &emsp;&emsp;Ensuring the data was read correctly"
   ]
  },
  {
   "cell_type": "markdown",
   "metadata": {},
   "source": [
    "To ensure that the file has been read properly, we can first check whether the resulting DataFrame has the same number of rows and columns as the original csv file"
   ]
  },
  {
   "cell_type": "code",
   "execution_count": 4,
   "metadata": {},
   "outputs": [
    {
     "data": {
      "text/plain": [
       "(1332, 19)"
      ]
     },
     "execution_count": 4,
     "metadata": {},
     "output_type": "execute_result"
    }
   ],
   "source": [
    "essay_data.shape"
   ]
  },
  {
   "cell_type": "markdown",
   "metadata": {},
   "source": [
    "The output shows that there are 1332 rows and 19 columns. Comparing this with the original csv file, which also has 1332 rows (excluding the first row which is used as a header and is thus not counted as a row in the DataFrame) and 19 columns, we can see that the resulting DataFrame has the same number of rows and columns as the original file.\n",
    "\n",
    "Next we can display the first and last 5 rows of the *essay_data* DataFrame to check whether the contents of the cells have been read properly"
   ]
  },
  {
   "cell_type": "code",
   "execution_count": 5,
   "metadata": {},
   "outputs": [
    {
     "data": {
      "text/html": [
       "<div>\n",
       "<style scoped>\n",
       "    .dataframe tbody tr th:only-of-type {\n",
       "        vertical-align: middle;\n",
       "    }\n",
       "\n",
       "    .dataframe tbody tr th {\n",
       "        vertical-align: top;\n",
       "    }\n",
       "\n",
       "    .dataframe thead th {\n",
       "        text-align: right;\n",
       "    }\n",
       "</style>\n",
       "<table border=\"1\" class=\"dataframe\">\n",
       "  <thead>\n",
       "    <tr style=\"text-align: right;\">\n",
       "      <th></th>\n",
       "      <th>essayid</th>\n",
       "      <th>chars</th>\n",
       "      <th>words</th>\n",
       "      <th>commas</th>\n",
       "      <th>apostrophes</th>\n",
       "      <th>punctuations</th>\n",
       "      <th>avg_word_length</th>\n",
       "      <th>sentences</th>\n",
       "      <th>questions</th>\n",
       "      <th>avg_word_sentence</th>\n",
       "      <th>POS</th>\n",
       "      <th>POS/total_words</th>\n",
       "      <th>prompt_words</th>\n",
       "      <th>prompt_words/total_words</th>\n",
       "      <th>synonym_words</th>\n",
       "      <th>synonym_words/total_words</th>\n",
       "      <th>unstemmed</th>\n",
       "      <th>stemmed</th>\n",
       "      <th>score</th>\n",
       "    </tr>\n",
       "  </thead>\n",
       "  <tbody>\n",
       "    <tr>\n",
       "      <th>0</th>\n",
       "      <td>1457</td>\n",
       "      <td>2153</td>\n",
       "      <td>426</td>\n",
       "      <td>14</td>\n",
       "      <td>6</td>\n",
       "      <td>0</td>\n",
       "      <td>5.053991</td>\n",
       "      <td>16</td>\n",
       "      <td>0</td>\n",
       "      <td>26.625000</td>\n",
       "      <td>423.995272</td>\n",
       "      <td>0.995294</td>\n",
       "      <td>207</td>\n",
       "      <td>0.485915</td>\n",
       "      <td>105</td>\n",
       "      <td>0.246479</td>\n",
       "      <td>424</td>\n",
       "      <td>412</td>\n",
       "      <td>4</td>\n",
       "    </tr>\n",
       "    <tr>\n",
       "      <th>1</th>\n",
       "      <td>503</td>\n",
       "      <td>1480</td>\n",
       "      <td>292</td>\n",
       "      <td>9</td>\n",
       "      <td>7</td>\n",
       "      <td>0</td>\n",
       "      <td>5.068493</td>\n",
       "      <td>11</td>\n",
       "      <td>0</td>\n",
       "      <td>26.545455</td>\n",
       "      <td>290.993103</td>\n",
       "      <td>0.996552</td>\n",
       "      <td>148</td>\n",
       "      <td>0.506849</td>\n",
       "      <td>77</td>\n",
       "      <td>0.263699</td>\n",
       "      <td>356</td>\n",
       "      <td>345</td>\n",
       "      <td>4</td>\n",
       "    </tr>\n",
       "    <tr>\n",
       "      <th>2</th>\n",
       "      <td>253</td>\n",
       "      <td>3964</td>\n",
       "      <td>849</td>\n",
       "      <td>19</td>\n",
       "      <td>26</td>\n",
       "      <td>1</td>\n",
       "      <td>4.669022</td>\n",
       "      <td>49</td>\n",
       "      <td>2</td>\n",
       "      <td>17.326531</td>\n",
       "      <td>843.990544</td>\n",
       "      <td>0.994100</td>\n",
       "      <td>285</td>\n",
       "      <td>0.335689</td>\n",
       "      <td>130</td>\n",
       "      <td>0.153121</td>\n",
       "      <td>750</td>\n",
       "      <td>750</td>\n",
       "      <td>4</td>\n",
       "    </tr>\n",
       "    <tr>\n",
       "      <th>3</th>\n",
       "      <td>107</td>\n",
       "      <td>988</td>\n",
       "      <td>210</td>\n",
       "      <td>8</td>\n",
       "      <td>7</td>\n",
       "      <td>0</td>\n",
       "      <td>4.704762</td>\n",
       "      <td>12</td>\n",
       "      <td>0</td>\n",
       "      <td>17.500000</td>\n",
       "      <td>207.653784</td>\n",
       "      <td>0.988828</td>\n",
       "      <td>112</td>\n",
       "      <td>0.533333</td>\n",
       "      <td>62</td>\n",
       "      <td>0.295238</td>\n",
       "      <td>217</td>\n",
       "      <td>209</td>\n",
       "      <td>3</td>\n",
       "    </tr>\n",
       "    <tr>\n",
       "      <th>4</th>\n",
       "      <td>1450</td>\n",
       "      <td>3139</td>\n",
       "      <td>600</td>\n",
       "      <td>13</td>\n",
       "      <td>8</td>\n",
       "      <td>0</td>\n",
       "      <td>5.231667</td>\n",
       "      <td>24</td>\n",
       "      <td>1</td>\n",
       "      <td>25.000000</td>\n",
       "      <td>594.652150</td>\n",
       "      <td>0.991087</td>\n",
       "      <td>255</td>\n",
       "      <td>0.425000</td>\n",
       "      <td>165</td>\n",
       "      <td>0.275000</td>\n",
       "      <td>702</td>\n",
       "      <td>677</td>\n",
       "      <td>4</td>\n",
       "    </tr>\n",
       "  </tbody>\n",
       "</table>\n",
       "</div>"
      ],
      "text/plain": [
       "   essayid  chars  words  commas  apostrophes  punctuations  avg_word_length  \\\n",
       "0     1457   2153    426      14            6             0         5.053991   \n",
       "1      503   1480    292       9            7             0         5.068493   \n",
       "2      253   3964    849      19           26             1         4.669022   \n",
       "3      107    988    210       8            7             0         4.704762   \n",
       "4     1450   3139    600      13            8             0         5.231667   \n",
       "\n",
       "   sentences  questions  avg_word_sentence         POS  POS/total_words  \\\n",
       "0         16          0          26.625000  423.995272         0.995294   \n",
       "1         11          0          26.545455  290.993103         0.996552   \n",
       "2         49          2          17.326531  843.990544         0.994100   \n",
       "3         12          0          17.500000  207.653784         0.988828   \n",
       "4         24          1          25.000000  594.652150         0.991087   \n",
       "\n",
       "   prompt_words  prompt_words/total_words  synonym_words  \\\n",
       "0           207                  0.485915            105   \n",
       "1           148                  0.506849             77   \n",
       "2           285                  0.335689            130   \n",
       "3           112                  0.533333             62   \n",
       "4           255                  0.425000            165   \n",
       "\n",
       "   synonym_words/total_words  unstemmed  stemmed  score  \n",
       "0                   0.246479        424      412      4  \n",
       "1                   0.263699        356      345      4  \n",
       "2                   0.153121        750      750      4  \n",
       "3                   0.295238        217      209      3  \n",
       "4                   0.275000        702      677      4  "
      ]
     },
     "execution_count": 5,
     "metadata": {},
     "output_type": "execute_result"
    }
   ],
   "source": [
    "essay_data.head()"
   ]
  },
  {
   "cell_type": "code",
   "execution_count": 6,
   "metadata": {},
   "outputs": [
    {
     "data": {
      "text/html": [
       "<div>\n",
       "<style scoped>\n",
       "    .dataframe tbody tr th:only-of-type {\n",
       "        vertical-align: middle;\n",
       "    }\n",
       "\n",
       "    .dataframe tbody tr th {\n",
       "        vertical-align: top;\n",
       "    }\n",
       "\n",
       "    .dataframe thead th {\n",
       "        text-align: right;\n",
       "    }\n",
       "</style>\n",
       "<table border=\"1\" class=\"dataframe\">\n",
       "  <thead>\n",
       "    <tr style=\"text-align: right;\">\n",
       "      <th></th>\n",
       "      <th>essayid</th>\n",
       "      <th>chars</th>\n",
       "      <th>words</th>\n",
       "      <th>commas</th>\n",
       "      <th>apostrophes</th>\n",
       "      <th>punctuations</th>\n",
       "      <th>avg_word_length</th>\n",
       "      <th>sentences</th>\n",
       "      <th>questions</th>\n",
       "      <th>avg_word_sentence</th>\n",
       "      <th>POS</th>\n",
       "      <th>POS/total_words</th>\n",
       "      <th>prompt_words</th>\n",
       "      <th>prompt_words/total_words</th>\n",
       "      <th>synonym_words</th>\n",
       "      <th>synonym_words/total_words</th>\n",
       "      <th>unstemmed</th>\n",
       "      <th>stemmed</th>\n",
       "      <th>score</th>\n",
       "    </tr>\n",
       "  </thead>\n",
       "  <tbody>\n",
       "    <tr>\n",
       "      <th>1327</th>\n",
       "      <td>1151</td>\n",
       "      <td>2404</td>\n",
       "      <td>467</td>\n",
       "      <td>16</td>\n",
       "      <td>10</td>\n",
       "      <td>0</td>\n",
       "      <td>5.147752</td>\n",
       "      <td>22</td>\n",
       "      <td>0</td>\n",
       "      <td>21.227273</td>\n",
       "      <td>462.987069</td>\n",
       "      <td>0.991407</td>\n",
       "      <td>200</td>\n",
       "      <td>0.428266</td>\n",
       "      <td>113</td>\n",
       "      <td>0.241970</td>\n",
       "      <td>529</td>\n",
       "      <td>519</td>\n",
       "      <td>4</td>\n",
       "    </tr>\n",
       "    <tr>\n",
       "      <th>1328</th>\n",
       "      <td>1015</td>\n",
       "      <td>1182</td>\n",
       "      <td>241</td>\n",
       "      <td>0</td>\n",
       "      <td>14</td>\n",
       "      <td>0</td>\n",
       "      <td>4.904564</td>\n",
       "      <td>16</td>\n",
       "      <td>0</td>\n",
       "      <td>15.062500</td>\n",
       "      <td>238.655462</td>\n",
       "      <td>0.990272</td>\n",
       "      <td>94</td>\n",
       "      <td>0.390041</td>\n",
       "      <td>67</td>\n",
       "      <td>0.278008</td>\n",
       "      <td>293</td>\n",
       "      <td>283</td>\n",
       "      <td>3</td>\n",
       "    </tr>\n",
       "    <tr>\n",
       "      <th>1329</th>\n",
       "      <td>1345</td>\n",
       "      <td>1814</td>\n",
       "      <td>363</td>\n",
       "      <td>5</td>\n",
       "      <td>11</td>\n",
       "      <td>0</td>\n",
       "      <td>4.997245</td>\n",
       "      <td>13</td>\n",
       "      <td>3</td>\n",
       "      <td>27.923077</td>\n",
       "      <td>362.329640</td>\n",
       "      <td>0.998153</td>\n",
       "      <td>170</td>\n",
       "      <td>0.468320</td>\n",
       "      <td>107</td>\n",
       "      <td>0.294766</td>\n",
       "      <td>427</td>\n",
       "      <td>415</td>\n",
       "      <td>3</td>\n",
       "    </tr>\n",
       "    <tr>\n",
       "      <th>1330</th>\n",
       "      <td>344</td>\n",
       "      <td>1427</td>\n",
       "      <td>287</td>\n",
       "      <td>5</td>\n",
       "      <td>8</td>\n",
       "      <td>0</td>\n",
       "      <td>4.972125</td>\n",
       "      <td>13</td>\n",
       "      <td>1</td>\n",
       "      <td>22.076923</td>\n",
       "      <td>284.657277</td>\n",
       "      <td>0.991837</td>\n",
       "      <td>144</td>\n",
       "      <td>0.501742</td>\n",
       "      <td>83</td>\n",
       "      <td>0.289199</td>\n",
       "      <td>323</td>\n",
       "      <td>312</td>\n",
       "      <td>3</td>\n",
       "    </tr>\n",
       "    <tr>\n",
       "      <th>1331</th>\n",
       "      <td>1077</td>\n",
       "      <td>2806</td>\n",
       "      <td>542</td>\n",
       "      <td>24</td>\n",
       "      <td>6</td>\n",
       "      <td>0</td>\n",
       "      <td>5.177122</td>\n",
       "      <td>22</td>\n",
       "      <td>3</td>\n",
       "      <td>24.636364</td>\n",
       "      <td>538.988889</td>\n",
       "      <td>0.994444</td>\n",
       "      <td>284</td>\n",
       "      <td>0.523985</td>\n",
       "      <td>155</td>\n",
       "      <td>0.285978</td>\n",
       "      <td>596</td>\n",
       "      <td>575</td>\n",
       "      <td>4</td>\n",
       "    </tr>\n",
       "  </tbody>\n",
       "</table>\n",
       "</div>"
      ],
      "text/plain": [
       "      essayid  chars  words  commas  apostrophes  punctuations  \\\n",
       "1327     1151   2404    467      16           10             0   \n",
       "1328     1015   1182    241       0           14             0   \n",
       "1329     1345   1814    363       5           11             0   \n",
       "1330      344   1427    287       5            8             0   \n",
       "1331     1077   2806    542      24            6             0   \n",
       "\n",
       "      avg_word_length  sentences  questions  avg_word_sentence         POS  \\\n",
       "1327         5.147752         22          0          21.227273  462.987069   \n",
       "1328         4.904564         16          0          15.062500  238.655462   \n",
       "1329         4.997245         13          3          27.923077  362.329640   \n",
       "1330         4.972125         13          1          22.076923  284.657277   \n",
       "1331         5.177122         22          3          24.636364  538.988889   \n",
       "\n",
       "      POS/total_words  prompt_words  prompt_words/total_words  synonym_words  \\\n",
       "1327         0.991407           200                  0.428266            113   \n",
       "1328         0.990272            94                  0.390041             67   \n",
       "1329         0.998153           170                  0.468320            107   \n",
       "1330         0.991837           144                  0.501742             83   \n",
       "1331         0.994444           284                  0.523985            155   \n",
       "\n",
       "      synonym_words/total_words  unstemmed  stemmed  score  \n",
       "1327                   0.241970        529      519      4  \n",
       "1328                   0.278008        293      283      3  \n",
       "1329                   0.294766        427      415      3  \n",
       "1330                   0.289199        323      312      3  \n",
       "1331                   0.285978        596      575      4  "
      ]
     },
     "execution_count": 6,
     "metadata": {},
     "output_type": "execute_result"
    }
   ],
   "source": [
    "essay_data.tail()"
   ]
  },
  {
   "cell_type": "markdown",
   "metadata": {},
   "source": [
    "With this we can be certain that the data has been read properly"
   ]
  },
  {
   "cell_type": "markdown",
   "metadata": {},
   "source": [
    "### &emsp;Describing the Data"
   ]
  },
  {
   "cell_type": "markdown",
   "metadata": {},
   "source": [
    "All of the column values are numeric, however, note that the last column (*score*) is numeric, discrete, *and* categorical. This is because it can only take one of 6 discrete values (1, 2, 3, 4, 5, or 6).\n",
    "\n",
    "***Central tendency:***\n",
    "- **essayid**\n",
    "    - *Note that this column contains the unique ids of the essays and has no bearing on the content of the essay itself, thus these statistical descriptions might not be particularly meaningful or useful*\n",
    "    - The average essay id is 905\n",
    "    - The median essay id is 915\n",
    "- **chars**\n",
    "    - The average number of characters in an essay is 2102\n",
    "    - The median number of characters in an essay is 2030\n",
    "- **words**\n",
    "    - The average number of words in an essay is 424\n",
    "    - The median number of words in an essay is 411\n",
    "- **commas**\n",
    "    - The average number of commas in an essay is 15\n",
    "    - The median number of commas in an essay is 13\n",
    "- **apostrophes**\n",
    "    - The average number of apostrophes in an essay is 8.1\n",
    "    - The median number of apostrophes in an essay is 6.0\n",
    "- **punctuations**\n",
    "    - *Note that punctuations here excludes commas, apostrophes, period, question marks*\n",
    "    - The average number of punctuations in an essay is 0.5\n",
    "    - The median number of punctuations in an essay is 0.0\n",
    "- **avg_word_length**\n",
    "    - The average number of characters in a word in an essay is 4.9\n",
    "    - The median number of characters in a word in an essay is also 4.9\n",
    "- **sentences**\n",
    "    - The average number of sentences in an essay is 20\n",
    "    - The median number of sentences in an essay is 18\n",
    "- **questions**\n",
    "    - The average number of questions in an essay is 1.2\n",
    "    - The median number of questions in an essay is 1.0\n",
    "- **avg_word_sentence**\n",
    "    - The average number of words per sentence in an essay is 24\n",
    "    - The median number of words per sentence in an essay is 22\n",
    "- **POS**\n",
    "    - *Total number of Part-of-Speech discovered in the essay. This means the number of words that have similar grammatical properties*\n",
    "    - The average number of Part-of-Speech discovered in an essay is 421\n",
    "    - The median number of Part-of-Speech discovered in an essay is 407\n",
    "- **POS/total_words**\n",
    "    - The average ratio of Part-of-Speech discovered to the total number of words in an essay is 1.0\n",
    "    - The median ratio of Part-of-Speech discovered to the total number of words in an essay is also 1.0\n",
    "- **prompt_words**\n",
    "    - The average number of words related to the prompt in an essay is 199\n",
    "    - The median number of words related to the prompt in an essay is 193\n",
    "- **prompt_words/total_words**\n",
    "    - The average ratio of the number of words related to the prompt to the total number of words in an essay is 0.5\n",
    "    - The median ratio of the number of words related to the prompt to the total number of words in an essay is also 0.5\n",
    "- **synonym_words**\n",
    "    - The average number of synonymous words in an essay is 110\n",
    "    - The median number of synonymous words in an essay is 108\n",
    "- **synonym_words/total_words**\n",
    "    - The average ratio of the number of synonymous words to the total number of words in an essay is 0.3\n",
    "    - The median ratio of the number of synonymous words to the total number of words in an essay is also 0.3\n",
    "- **unstemmed**\n",
    "    - *Unstemmed words refers to words that cannot be further reduced to their base forms*\n",
    "    - The average number of unstemmed words in an essay is 469\n",
    "    - The median number of unstemmed words in an essay is 463\n",
    "- **stemmed**\n",
    "    - *Stemmed words refers to words that **can** be further reduced to their base forms*\n",
    "    - The average number of stemmed words in an essay is 456\n",
    "    - The median number of stemmed words in an essay is 448\n",
    "- **score**\n",
    "    - The average rating of an essay is 3.4\n",
    "    - The median rating of an essay is 3.0\n",
    "    \n",
    "***Variability***:\n",
    "\n",
    "*Range can be calculated by subtracting the smallest value in a column from the largest value in a column (max - min)*\n",
    "- **essayid**\n",
    "    - There is a large range of 1799 between the maximum and minimum essay ids\n",
    "    - The variance in the essay id between essays is 277400\n",
    "- **chars**\n",
    "    - There is a large range of 5973 between the essay with the most characters and the essay with the least number of characters\n",
    "    - The variance in the number of characters between essay is 749893\n",
    "- **words**\n",
    "    - There is a large range of 1134 between the essay with the most words and the essay with the least number of words\n",
    "    - The variance in the number of words between essays is 29541\n",
    "- **commas**\n",
    "    - There is a very large range of 72 between the essay with the most commas and the essay with the least number of commas\n",
    "    - The variance in the number of commas between essays is 119\n",
    "- **apostrophes**\n",
    "    - There is a large range of 49 between the essay with the most apostrophes and the essay with the least number of apostrophes\n",
    "    - The variance in the number of apostrophes between essays is 37.5\n",
    "- **punctuations**\n",
    "    - There is a very large range of 26 (seeing as the mean is only 0.5) between the essay with the most punctuations and the essay with the least number of punctuations\n",
    "    - The variance in the number of punctuations between essays is 1.6\n",
    "- **avg_word_length**\n",
    "    - There is a relatively small range of 3.5 between the essay with the highest average word length and the essay with the lowest average word length\n",
    "    - The variance in the average word length between essays is 0.053\n",
    "- **sentences**\n",
    "    - There is a very large range of 642 between the essay with the most number of sentences and the essay with the least number of sentences\n",
    "    - The variance in the number of sentences between essays is 369\n",
    "- **questions**\n",
    "    - There is a large range of 17 (seeing as the mean is 1.2) between the essay with the most number of questions and the essay with the least number of questions\n",
    "    - The variance in the number of questions between essays is 3.4\n",
    "- **avg_word_sentence**\n",
    "    - There is a very large range of 302 between the essay with the highest average number of words per sentence and the essay with the lowest average number of words per sentence\n",
    "    - The variance in the number of average words per sentence between essays is 124.5\n",
    "- **POS**\n",
    "    - There is a very large range of 1123 between the essay with the most number of POS discovered and the essay with the least number of POS discovered\n",
    "    - The variance in the number of Part-Of-Speech between essays is 29236\n",
    "- **POS/total_words**\n",
    "    - There is a very small range of 0.08 between the essay with the highest number of Part-Of-Speech discovered per total words and the essay with the lowest number of Part-Of-Speech discovered per total words\n",
    "    - The variance in the number of Part-Of-Speech per total number of words between essays is 5.3e-5\n",
    "- **prompt_words**\n",
    "    - There is a large range of 655 between the essay with the most number of prompt words and the essay with the least number of prompt words\n",
    "    - The variance in the number of words related to the prompt between essays is 6844\n",
    "- **prompt_words/total_words**\n",
    "    - There is a range of 0.67 between the essay with the highest proportion of prompt words to total words and the essay with the lowest proportion of prompt words to total words\n",
    "    - The variance in the ratio of words related to the prompt to the total number of words between essays is 2.8e-3\n",
    "- **synonym_words**\n",
    "    - There is a range of 344 between the essay with the highest number of synonymous words and the essay with the lowest number of synonymous words\n",
    "    - The variance in the number of synonymous words between essays is 1933\n",
    "- **synonym_words/total_words**\n",
    "    - There is a relatively large range of 0.4 between the essay with the highest proportion of synonymous words to total words and the essay with the lowest proportion of synonymous words to total words\n",
    "    - The variance in the ratio of synonymous words to the total number of words between essays is 1.5e-3\n",
    "- **unstemmed**\n",
    "    - There is a large range of 702 between the essay with the highest number of unstemmed words and the essay with the lowest number of unstemmed words\n",
    "    - The variance in the number of unstemmed words (words that were not reduced further to their base form) between essays is 25423\n",
    "- **stemmed**\n",
    "    - There is a large range of 700 between the maximum and minimum number of stemmed words (words that have been reduced further to their base form) in an essay\n",
    "    - The variance in the number of stemmed words (words that have been reduced further to their base form) between essays is 24258\n",
    "- **score**\n",
    "    - There is a range of 5 between the maximum and minimum score of an essay, which makes sense since the possible scores are 1, 2, 3, 4, 5, or 6\n",
    "    - The variance in the score between essays is 0.6"
   ]
  },
  {
   "cell_type": "code",
   "execution_count": 7,
   "metadata": {},
   "outputs": [
    {
     "data": {
      "text/html": [
       "<div>\n",
       "<style scoped>\n",
       "    .dataframe tbody tr th:only-of-type {\n",
       "        vertical-align: middle;\n",
       "    }\n",
       "\n",
       "    .dataframe tbody tr th {\n",
       "        vertical-align: top;\n",
       "    }\n",
       "\n",
       "    .dataframe thead th {\n",
       "        text-align: right;\n",
       "    }\n",
       "</style>\n",
       "<table border=\"1\" class=\"dataframe\">\n",
       "  <thead>\n",
       "    <tr style=\"text-align: right;\">\n",
       "      <th></th>\n",
       "      <th>essayid</th>\n",
       "      <th>chars</th>\n",
       "      <th>words</th>\n",
       "      <th>commas</th>\n",
       "      <th>apostrophes</th>\n",
       "      <th>punctuations</th>\n",
       "      <th>avg_word_length</th>\n",
       "      <th>sentences</th>\n",
       "      <th>questions</th>\n",
       "      <th>avg_word_sentence</th>\n",
       "      <th>POS</th>\n",
       "      <th>POS/total_words</th>\n",
       "      <th>prompt_words</th>\n",
       "      <th>prompt_words/total_words</th>\n",
       "      <th>synonym_words</th>\n",
       "      <th>synonym_words/total_words</th>\n",
       "      <th>unstemmed</th>\n",
       "      <th>stemmed</th>\n",
       "      <th>score</th>\n",
       "    </tr>\n",
       "  </thead>\n",
       "  <tbody>\n",
       "    <tr>\n",
       "      <th>count</th>\n",
       "      <td>1332.00000</td>\n",
       "      <td>1332.000000</td>\n",
       "      <td>1332.000000</td>\n",
       "      <td>1332.000000</td>\n",
       "      <td>1332.000000</td>\n",
       "      <td>1332.00000</td>\n",
       "      <td>1332.000000</td>\n",
       "      <td>1332.000000</td>\n",
       "      <td>1332.000000</td>\n",
       "      <td>1332.000000</td>\n",
       "      <td>1332.000000</td>\n",
       "      <td>1332.000000</td>\n",
       "      <td>1332.000000</td>\n",
       "      <td>1332.000000</td>\n",
       "      <td>1332.00000</td>\n",
       "      <td>1332.000000</td>\n",
       "      <td>1332.000000</td>\n",
       "      <td>1332.000000</td>\n",
       "      <td>1332.000000</td>\n",
       "    </tr>\n",
       "    <tr>\n",
       "      <th>mean</th>\n",
       "      <td>905.27027</td>\n",
       "      <td>2101.745495</td>\n",
       "      <td>424.485736</td>\n",
       "      <td>14.667417</td>\n",
       "      <td>8.141141</td>\n",
       "      <td>0.47973</td>\n",
       "      <td>4.939762</td>\n",
       "      <td>19.704204</td>\n",
       "      <td>1.222973</td>\n",
       "      <td>23.884687</td>\n",
       "      <td>420.596542</td>\n",
       "      <td>0.989935</td>\n",
       "      <td>198.913664</td>\n",
       "      <td>0.469164</td>\n",
       "      <td>110.16967</td>\n",
       "      <td>0.263846</td>\n",
       "      <td>468.987988</td>\n",
       "      <td>455.507508</td>\n",
       "      <td>3.427177</td>\n",
       "    </tr>\n",
       "    <tr>\n",
       "      <th>std</th>\n",
       "      <td>526.68760</td>\n",
       "      <td>865.963750</td>\n",
       "      <td>171.873730</td>\n",
       "      <td>10.920781</td>\n",
       "      <td>6.124520</td>\n",
       "      <td>1.27168</td>\n",
       "      <td>0.231071</td>\n",
       "      <td>19.202731</td>\n",
       "      <td>1.847446</td>\n",
       "      <td>11.160020</td>\n",
       "      <td>170.985111</td>\n",
       "      <td>0.007308</td>\n",
       "      <td>82.729266</td>\n",
       "      <td>0.052466</td>\n",
       "      <td>43.96192</td>\n",
       "      <td>0.038870</td>\n",
       "      <td>159.447449</td>\n",
       "      <td>155.751220</td>\n",
       "      <td>0.774275</td>\n",
       "    </tr>\n",
       "    <tr>\n",
       "      <th>min</th>\n",
       "      <td>0.00000</td>\n",
       "      <td>169.000000</td>\n",
       "      <td>36.000000</td>\n",
       "      <td>0.000000</td>\n",
       "      <td>2.000000</td>\n",
       "      <td>0.00000</td>\n",
       "      <td>2.231322</td>\n",
       "      <td>0.000000</td>\n",
       "      <td>0.000000</td>\n",
       "      <td>1.084112</td>\n",
       "      <td>35.647059</td>\n",
       "      <td>0.924771</td>\n",
       "      <td>14.000000</td>\n",
       "      <td>0.288889</td>\n",
       "      <td>11.00000</td>\n",
       "      <td>0.027299</td>\n",
       "      <td>48.000000</td>\n",
       "      <td>50.000000</td>\n",
       "      <td>1.000000</td>\n",
       "    </tr>\n",
       "    <tr>\n",
       "      <th>25%</th>\n",
       "      <td>442.75000</td>\n",
       "      <td>1527.250000</td>\n",
       "      <td>310.000000</td>\n",
       "      <td>7.000000</td>\n",
       "      <td>4.000000</td>\n",
       "      <td>0.00000</td>\n",
       "      <td>4.791679</td>\n",
       "      <td>13.000000</td>\n",
       "      <td>0.000000</td>\n",
       "      <td>19.142857</td>\n",
       "      <td>305.406284</td>\n",
       "      <td>0.987758</td>\n",
       "      <td>144.000000</td>\n",
       "      <td>0.435709</td>\n",
       "      <td>81.00000</td>\n",
       "      <td>0.238423</td>\n",
       "      <td>361.000000</td>\n",
       "      <td>350.750000</td>\n",
       "      <td>3.000000</td>\n",
       "    </tr>\n",
       "    <tr>\n",
       "      <th>50%</th>\n",
       "      <td>914.50000</td>\n",
       "      <td>2029.500000</td>\n",
       "      <td>411.000000</td>\n",
       "      <td>13.000000</td>\n",
       "      <td>6.000000</td>\n",
       "      <td>0.00000</td>\n",
       "      <td>4.946059</td>\n",
       "      <td>18.000000</td>\n",
       "      <td>1.000000</td>\n",
       "      <td>22.030331</td>\n",
       "      <td>406.982869</td>\n",
       "      <td>0.991572</td>\n",
       "      <td>193.000000</td>\n",
       "      <td>0.465852</td>\n",
       "      <td>107.50000</td>\n",
       "      <td>0.262872</td>\n",
       "      <td>463.000000</td>\n",
       "      <td>448.000000</td>\n",
       "      <td>3.000000</td>\n",
       "    </tr>\n",
       "    <tr>\n",
       "      <th>75%</th>\n",
       "      <td>1369.75000</td>\n",
       "      <td>2613.500000</td>\n",
       "      <td>525.000000</td>\n",
       "      <td>21.000000</td>\n",
       "      <td>11.000000</td>\n",
       "      <td>0.00000</td>\n",
       "      <td>5.092938</td>\n",
       "      <td>24.000000</td>\n",
       "      <td>2.000000</td>\n",
       "      <td>26.048234</td>\n",
       "      <td>520.739458</td>\n",
       "      <td>0.994425</td>\n",
       "      <td>246.000000</td>\n",
       "      <td>0.500000</td>\n",
       "      <td>134.00000</td>\n",
       "      <td>0.288277</td>\n",
       "      <td>581.000000</td>\n",
       "      <td>561.250000</td>\n",
       "      <td>4.000000</td>\n",
       "    </tr>\n",
       "    <tr>\n",
       "      <th>max</th>\n",
       "      <td>1799.00000</td>\n",
       "      <td>6142.000000</td>\n",
       "      <td>1170.000000</td>\n",
       "      <td>72.000000</td>\n",
       "      <td>51.000000</td>\n",
       "      <td>26.00000</td>\n",
       "      <td>5.681429</td>\n",
       "      <td>642.000000</td>\n",
       "      <td>17.000000</td>\n",
       "      <td>303.000000</td>\n",
       "      <td>1158.984563</td>\n",
       "      <td>1.000000</td>\n",
       "      <td>669.000000</td>\n",
       "      <td>0.961207</td>\n",
       "      <td>355.00000</td>\n",
       "      <td>0.465517</td>\n",
       "      <td>750.000000</td>\n",
       "      <td>750.000000</td>\n",
       "      <td>6.000000</td>\n",
       "    </tr>\n",
       "  </tbody>\n",
       "</table>\n",
       "</div>"
      ],
      "text/plain": [
       "          essayid        chars        words       commas  apostrophes  \\\n",
       "count  1332.00000  1332.000000  1332.000000  1332.000000  1332.000000   \n",
       "mean    905.27027  2101.745495   424.485736    14.667417     8.141141   \n",
       "std     526.68760   865.963750   171.873730    10.920781     6.124520   \n",
       "min       0.00000   169.000000    36.000000     0.000000     2.000000   \n",
       "25%     442.75000  1527.250000   310.000000     7.000000     4.000000   \n",
       "50%     914.50000  2029.500000   411.000000    13.000000     6.000000   \n",
       "75%    1369.75000  2613.500000   525.000000    21.000000    11.000000   \n",
       "max    1799.00000  6142.000000  1170.000000    72.000000    51.000000   \n",
       "\n",
       "       punctuations  avg_word_length    sentences    questions  \\\n",
       "count    1332.00000      1332.000000  1332.000000  1332.000000   \n",
       "mean        0.47973         4.939762    19.704204     1.222973   \n",
       "std         1.27168         0.231071    19.202731     1.847446   \n",
       "min         0.00000         2.231322     0.000000     0.000000   \n",
       "25%         0.00000         4.791679    13.000000     0.000000   \n",
       "50%         0.00000         4.946059    18.000000     1.000000   \n",
       "75%         0.00000         5.092938    24.000000     2.000000   \n",
       "max        26.00000         5.681429   642.000000    17.000000   \n",
       "\n",
       "       avg_word_sentence          POS  POS/total_words  prompt_words  \\\n",
       "count        1332.000000  1332.000000      1332.000000   1332.000000   \n",
       "mean           23.884687   420.596542         0.989935    198.913664   \n",
       "std            11.160020   170.985111         0.007308     82.729266   \n",
       "min             1.084112    35.647059         0.924771     14.000000   \n",
       "25%            19.142857   305.406284         0.987758    144.000000   \n",
       "50%            22.030331   406.982869         0.991572    193.000000   \n",
       "75%            26.048234   520.739458         0.994425    246.000000   \n",
       "max           303.000000  1158.984563         1.000000    669.000000   \n",
       "\n",
       "       prompt_words/total_words  synonym_words  synonym_words/total_words  \\\n",
       "count               1332.000000     1332.00000                1332.000000   \n",
       "mean                   0.469164      110.16967                   0.263846   \n",
       "std                    0.052466       43.96192                   0.038870   \n",
       "min                    0.288889       11.00000                   0.027299   \n",
       "25%                    0.435709       81.00000                   0.238423   \n",
       "50%                    0.465852      107.50000                   0.262872   \n",
       "75%                    0.500000      134.00000                   0.288277   \n",
       "max                    0.961207      355.00000                   0.465517   \n",
       "\n",
       "         unstemmed      stemmed        score  \n",
       "count  1332.000000  1332.000000  1332.000000  \n",
       "mean    468.987988   455.507508     3.427177  \n",
       "std     159.447449   155.751220     0.774275  \n",
       "min      48.000000    50.000000     1.000000  \n",
       "25%     361.000000   350.750000     3.000000  \n",
       "50%     463.000000   448.000000     3.000000  \n",
       "75%     581.000000   561.250000     4.000000  \n",
       "max     750.000000   750.000000     6.000000  "
      ]
     },
     "execution_count": 7,
     "metadata": {},
     "output_type": "execute_result"
    }
   ],
   "source": [
    "# Generate descriptive statistics for the essay_data DataFrame\n",
    "essay_data.describe()"
   ]
  },
  {
   "cell_type": "code",
   "execution_count": 8,
   "metadata": {},
   "outputs": [
    {
     "data": {
      "text/plain": [
       "essayid                      277399.827726\n",
       "chars                        749893.216171\n",
       "words                         29540.579060\n",
       "commas                          119.263460\n",
       "apostrophes                      37.509741\n",
       "punctuations                      1.617170\n",
       "avg_word_length                   0.053394\n",
       "sentences                       368.744896\n",
       "questions                         3.413056\n",
       "avg_word_sentence               124.546047\n",
       "POS                           29235.908019\n",
       "POS/total_words                   0.000053\n",
       "prompt_words                   6844.131534\n",
       "prompt_words/total_words          0.002753\n",
       "synonym_words                  1932.650379\n",
       "synonym_words/total_words         0.001511\n",
       "unstemmed                     25423.488962\n",
       "stemmed                       24258.442468\n",
       "score                             0.599501\n",
       "dtype: float64"
      ]
     },
     "execution_count": 8,
     "metadata": {},
     "output_type": "execute_result"
    }
   ],
   "source": [
    "# display the variance for each column\n",
    "essay_data.var()"
   ]
  },
  {
   "cell_type": "markdown",
   "metadata": {},
   "source": [
    "# Supervised Learning"
   ]
  },
  {
   "cell_type": "markdown",
   "metadata": {},
   "source": [
    "### &emsp;Explanation"
   ]
  },
  {
   "cell_type": "markdown",
   "metadata": {},
   "source": [
    "**Supervised Machine Learning** is a subcategory of machine learning which involves training an algorithm on data that is well labeled, i.e. labeled training data. The goal is to obtain an approximation of the function that maps the input to the output so that when it is provided with new input data, it is able to predict the output for that data (IBM Cloud Education, 2020; Brownlee, 2020).\n",
    "\n",
    "In the context of machine learning, **labeled data** refers to data that has one or more meaningful labels or informative tags that can be used by supervised machine learning models to learn the combination of features that might map the input to that label, and thus be able to predict labels for unlabelled data. For example, given a picture the label might indicate whether the picture contains a cat or not (Amazon Web Services, n.d.).\n",
    "\n",
    "In machine learning, the original dataset is usually divided into the **training set** and the **test set**, with the training set typically many times larger than the test set (usually an 80/20 split), where the training set is a subset of the dataset that is used to train a model, i.e. it is a set of examples used to fit the parameters/weights of a model, and the test set is a subset of the dataset that is not used during training and is instead used to test the performance of the trained model (Google Developers, 2020). Splitting the dataset in this way is required to avoid overfitting where the model performs very well with the provided data but performs very poorly when given new data, in this sense the test set serves as a proxy for new data."
   ]
  },
  {
   "cell_type": "markdown",
   "metadata": {},
   "source": [
    "### &emsp;Separating Features and Label"
   ]
  },
  {
   "cell_type": "markdown",
   "metadata": {},
   "source": [
    "By looking at the dataset, we can surmise that the label, i.e. what we want the model to predict, are the **scores** which represents the grade of the essay, therefore we can obtain the data labels by extracting the values from the *score* column.\n",
    "\n",
    "Here we extract the values from the last column (*score*), and assign them to the variable *label* to be used later on during preprocessing and training."
   ]
  },
  {
   "cell_type": "code",
   "execution_count": 9,
   "metadata": {},
   "outputs": [],
   "source": [
    "# extract values from every row, last column\n",
    "label = essay_data.iloc[:,-1].values"
   ]
  },
  {
   "cell_type": "markdown",
   "metadata": {},
   "source": [
    "Here we extract the values from the first column (*essayid*) to the second last column (*stemmed*) and assign these values to the variable *features* to be used during preprocessing and training."
   ]
  },
  {
   "cell_type": "code",
   "execution_count": 10,
   "metadata": {},
   "outputs": [],
   "source": [
    "# extract values from every row, from first to second last column (i.e. columns index 0 to 17)\n",
    "features = essay_data.iloc[:,:-1].values"
   ]
  },
  {
   "cell_type": "markdown",
   "metadata": {},
   "source": [
    "# Feature Selection"
   ]
  },
  {
   "cell_type": "markdown",
   "metadata": {},
   "source": [
    "Before splitting the data into the training set and the test set, we can perform feature selection to identify and select the features that will contribute most to the model's prediction. This is done to increase the model's accuracy, decrease training time, and reduce overfitting. \n",
    "\n",
    "To do this we can make use of the *f_classif()* function from the *sklearn.feature_selection* module that computes the ANOVA F-value for the provided sample and allows for feature selection when we are working with a classification problem, more specifically, when we have numerical input data (features) and a categorical target variable (label) as we do in this case.\n",
    "\n",
    "Here we can print out the F-value for each of the (feature) columns to determine which columns to keep, the higher the score the more relevant the column."
   ]
  },
  {
   "cell_type": "code",
   "execution_count": 11,
   "metadata": {},
   "outputs": [
    {
     "name": "stdout",
     "output_type": "stream",
     "text": [
      "----List of features from highest to lowest F-value----\n",
      "\n",
      "unstemmed = 255.8948587663438\n",
      "stemmed = 254.33217075322452\n",
      "chars = 236.13263126536944\n",
      "POS = 209.80140389791052\n",
      "words = 208.92684234127228\n",
      "prompt_words = 186.39330700069752\n",
      "synonym_words = 135.72391926093715\n",
      "commas = 106.40189465413823\n",
      "POS/total_words = 33.979754886876925\n",
      "apostrophes = 33.93409241646121\n",
      "questions = 32.777162227254095\n",
      "avg_word_length = 32.4444185987326\n",
      "synonym_words/total_words = 28.505876406086006\n",
      "sentences = 15.93339650670346\n",
      "punctuations = 7.439281205003285\n",
      "avg_word_sentence = 5.065326414935797\n",
      "prompt_words/total_words = 1.892359146707649\n",
      "essayid = 1.1098589592655128\n"
     ]
    }
   ],
   "source": [
    "# the f_classif() function takes in the features and label data and returns the F-values for each feature\n",
    "F_vals, _ = f_classif(features, label)\n",
    "\n",
    "# gets the list of (feature) column names\n",
    "cols = essay_data.columns[:-1]\n",
    "# sort based on the F-values in descending order\n",
    "ind = np.lexsort((cols,F_vals))[::-1]\n",
    "\n",
    "print(\"----List of features from highest to lowest F-value----\\n\")\n",
    "# for each feature, display the column (feature) name along with its F-value\n",
    "for index in ind:\n",
    "    print(\"{} = {}\".format(cols[index], F_vals[index]))"
   ]
  },
  {
   "cell_type": "markdown",
   "metadata": {},
   "source": [
    "Now we can select the features which are relevant in predicting the essay's grade by defining a threshold of, say, 100 to extract the features that are most important. From the list above we can see that there are 8 features with an F-value above 100: *unstemmed, stemmed, chars, POS, words, prompt_words, synonym_words, commas*.\n",
    "\n",
    "We can now extract these 8 features and from this point onwards we will only be working and training with the selected features."
   ]
  },
  {
   "cell_type": "code",
   "execution_count": 12,
   "metadata": {},
   "outputs": [],
   "source": [
    "# specify the column headers of the features we want to keep\n",
    "selected_cols = ['unstemmed', 'stemmed', 'chars', 'POS', 'words', 'prompt_words', 'synonym_words', 'commas']\n",
    "# extract the values only from the selected columns\n",
    "selected_features = essay_data[selected_cols].values"
   ]
  },
  {
   "cell_type": "markdown",
   "metadata": {},
   "source": [
    "# Splitting Data into Training and Test Set"
   ]
  },
  {
   "cell_type": "markdown",
   "metadata": {},
   "source": [
    "<br></br>\n",
    "After feature selection, we can now split the data into the training set and the test set by using the *train_test_split()* function from the *sklearn.model_selection* module. Typically the ratio of the size of the training set to the size of the test set is 80:20 so here we will follow this convention. This function returns four arrays listed below in order:\n",
    "- **X_train** : an array of values which represents the feature values for examples which are going to be used to train the model (part of the training set)\n",
    "- **X_test** : an array of values which represents the feature values for examples which are going to be used to test the accuracy of the model after it has been trained (part of the test set)\n",
    "- **y_train** : an array of values which represents the label values for examples which are going to be used to train the model (part of the training set)\n",
    "- **y_test** : an array of values which represents the label values for examples which are going to be used to test the accuracy of the model after it has been trained by comparing it to the model's predictions (part of the test set)"
   ]
  },
  {
   "cell_type": "code",
   "execution_count": 13,
   "metadata": {},
   "outputs": [],
   "source": [
    "# first parameter is the (selected) feature values\n",
    "# second parameter is the label values\n",
    "# test_size parameter takes a float between 0 and 1, which represents the proportion of the test set to the entire dataset\n",
    "# random_state parameter takes in an int so that the output is reproducible\n",
    "X_train, X_test, y_train, y_test = train_test_split(selected_features, label, test_size=0.2, random_state=42)"
   ]
  },
  {
   "cell_type": "markdown",
   "metadata": {},
   "source": [
    "We can check that the split was done correctly by printing the shape of X_train, the shape of X_test, and the proportion of data in the training set to the entire dataset"
   ]
  },
  {
   "cell_type": "code",
   "execution_count": 14,
   "metadata": {},
   "outputs": [
    {
     "name": "stdout",
     "output_type": "stream",
     "text": [
      "X_train has 1065 rows and 8 columns\n",
      "X_test has 267 rows and 8 columns\n",
      "proportion of data in the X_test to the entire dataset: 0.20045045045045046\n"
     ]
    }
   ],
   "source": [
    "train_rows, train_cols = X_train.shape\n",
    "test_rows, test_cols = X_test.shape\n",
    "print(\"X_train has {} rows and {} columns\".format(train_rows, train_cols))\n",
    "print(\"X_test has {} rows and {} columns\".format(test_rows, test_cols))\n",
    "print(\"proportion of data in the X_test to the entire dataset:\", test_rows/essay_data.shape[0])"
   ]
  },
  {
   "cell_type": "markdown",
   "metadata": {},
   "source": [
    "# Classification"
   ]
  },
  {
   "cell_type": "markdown",
   "metadata": {},
   "source": [
    "### &emsp;Difference between binary and multi-class classification"
   ]
  },
  {
   "cell_type": "markdown",
   "metadata": {},
   "source": [
    "Classification refers to a predictive modeling problem that involves predicting a class label for some input data. Two of the most common types of these problems are binary and multi-class classification. \n",
    "\n",
    "In binary classification, there are only two class labels, therefore given some input data the model has to predict whether it is of some class X or not. For example, given an image the model has to predict whether it is a cat or not. It only requires one classifier model. (Band, 2020)\n",
    "\n",
    "Whereas in multi-class classification, there are multiple class labels, therefore, given some input data the model has to assign it to one of these labels. It might require more than one classifier model (Band, 2020). Since we have determined that the *score* column contains values that are categorical, and because there is more than two possible labels (scores can be one of [1,2,3,4,5,6]), in this case, predicting the score for an essay is an example of a multi-class classification problem."
   ]
  },
  {
   "cell_type": "markdown",
   "metadata": {},
   "source": [
    "# Normalization/Scaling"
   ]
  },
  {
   "cell_type": "markdown",
   "metadata": {},
   "source": [
    "Normalization/Scaling is an important step in preprocessing as it changes the values in the numeric columns to a common scale while keeping the relative differences in the range of values (Jaitley, 2018). This is especially important when different features have vastly different ranges. For example, the *chars* column contains very large values when compared to the values in the *punctuations* column. The values in the *chars* column might then have a greater influence over the result due to its larger magnitude even though it might not necessarily be a better predictor than the values in the *punctuations* column. Therefore by normalizing the range of all features we can avoid this problem.\n",
    "\n",
    "Since we are working with features that have very different ranges (for example *chars* and *punctuations*) and we are planning to use an SVM, which assumes that the data provided is in a standard range, therefore normalization/scaling is required.\n",
    "\n",
    "Here we can use the *MinMaxScaler()* function from the *sklearn.preprocessing* module to scale each feature to the range [0,1]. Not only does the MinMaxScaler preserve the shape of the original distribution, it also avoids significantly altering the information embedded in the original data (Hale, 2019)."
   ]
  },
  {
   "cell_type": "code",
   "execution_count": 15,
   "metadata": {},
   "outputs": [],
   "source": [
    "# define the scaler we are going to use as the MinMaxScaler\n",
    "# we are going to scale the features to the default range of [0,1] since we have no negative values\n",
    "scaler = MinMaxScaler()\n",
    "\n",
    "# fit the scaler to the training data which computes the minimum and maximum of every feature in X_train\n",
    "# then we transform X_train to scale the data according to the computed minimum and maximum \n",
    "X_train = scaler.fit_transform(X_train)\n",
    "# Here we transform X_test using the minimum and maximum of the corresponding features in X_train\n",
    "X_test = scaler.transform(X_test)"
   ]
  },
  {
   "cell_type": "markdown",
   "metadata": {},
   "source": [
    "We can test this by printing out the maximum and minimum values for every feature in both the training and test sets. Note that while the minimum and maximum values of the features in the training set are 0s and 1s respectively, the minimum and maximum values of the features in the test set are not, with some of the maximum feature values exceeding 1. This is to be expected because the scaler was fitted according to the **training data** not the **test data**, what is important here is that the minimum and maximum feature values for the test set is still very close to the [0,1] range."
   ]
  },
  {
   "cell_type": "code",
   "execution_count": 16,
   "metadata": {},
   "outputs": [
    {
     "name": "stdout",
     "output_type": "stream",
     "text": [
      "Minimum values for each feature in the training set: [0. 0. 0. 0. 0. 0. 0. 0.]\n",
      "Maximum values for each feature in the training set: [1. 1. 1. 1. 1. 1. 1. 1.]\n",
      "Minimum values for each feature in the test set: [0.01709402 0.01571429 0.00070909 0.00032579 0.0018315  0.\n",
      " 0.         0.        ]\n",
      "Maximum values for each feature in the test set: [1.         1.         1.05885481 1.03691839 1.03846154 1.2405303\n",
      " 1.17006803 0.68055556]\n"
     ]
    }
   ],
   "source": [
    "print(\"Minimum values for each feature in the training set:\",X_train.min(axis=0))\n",
    "print(\"Maximum values for each feature in the training set:\", X_train.max(axis=0))\n",
    "print(\"Minimum values for each feature in the test set:\", X_test.min(axis=0))\n",
    "print(\"Maximum values for each feature in the test set:\", X_test.max(axis=0))"
   ]
  },
  {
   "cell_type": "markdown",
   "metadata": {},
   "source": [
    "# SVM"
   ]
  },
  {
   "cell_type": "markdown",
   "metadata": {},
   "source": [
    "### &emsp;SVM in Relation to Linear Regression"
   ]
  },
  {
   "cell_type": "markdown",
   "metadata": {},
   "source": [
    "Similar to Linear Regression, Support Vector Machines (SVMs) are supervised machine learning models. Whereas linear regression is typically used for regression problems, SVMs can be used for both classification *and* regression tasks (Gandhi, 2018). In regression tasks, the goal of linear regression is to minimize the sum of the squared errors, however the goal of the SVM (SVR) is to instead minimize the l2-norm of the coefficient vector, not the squared error which is instead handled in the constraints. This means that the SVM (SVR) gives us more flexibility as it allows us to ignore errors as long as they fall within an acceptable range/margin (Sharp, 2020).\n",
    "\n",
    "In classification tasks, the goal of an SVM algorithm is to find the optimal hyperplane that is able to best classify the input data. To this end, many hyperplanes are tested and the plane that has the maximum margin, i.e. the hyperplane that results in the maximum distance between the closest points from separate classes, is chosen (Gandhi, 2018). "
   ]
  },
  {
   "cell_type": "markdown",
   "metadata": {},
   "source": [
    "### &emsp; Kernels"
   ]
  },
  {
   "cell_type": "markdown",
   "metadata": {},
   "source": [
    "Kernels or sometimes known as the \"kernel trick\" allows SVMs to create non-linear decision boundaries. These kernels are mathematical functions which takes input data in n dimensional space, which is not separable using a hyperplane, and transforms them into a higher dimension in which this data *is* separable. The resulting hyperplane can then be projected back down into n dimensional space to get a non-linear decision boundary (Suriya, n.d.). There are a couple of kernels for example linear, polynomial, radial basis function (rbf), and sigmoid but the most commonly used ones are linear and rbf (DataFlair, n.d.)."
   ]
  },
  {
   "cell_type": "markdown",
   "metadata": {},
   "source": [
    "### &emsp; Building the SVM (Hyperparameter Tuning)"
   ]
  },
  {
   "cell_type": "markdown",
   "metadata": {},
   "source": [
    "Since I will be using SVM for classification, I will use the *SVC* (Support Vector Classification) class from the *sklearn.svm* module. In order to build a good model, we need to choose optimal parameters for the model. For the *SVC* class, the most important parameters are:\n",
    "- kernel: the type of kernel to be used in the algorithm\n",
    "- C: the regularization parameter which tells the algorithm how important misclassified points are\n",
    "- gamma: the kernel coefficient, it decides the level of influence of a single example\n",
    "\n",
    "Rather than randomly guessing values for the parameters, we can use the *GridSearchCV* class from the *sklearn.model_selection* module. GridSearchCV allows us to test every combination of the provided values for each of these parameters to find the parameters which result in the highest performing model when it is fitted to the training set.\n",
    "\n",
    "Here I allowed it to choose between two kernels - *linear* and *rbf*, as they are the most commonly used and reliable kernels, whereas for C and gamma I provided a wider range of values to test with. \n",
    "\n",
    "*Note that gamma is a parameter that is ignored by linear kernels therefore to reduce search time I only allowed GridSearchCV to test the different gamma values when the kernel being tested is the rbf kernel.*\n",
    "\n",
    "Running the code block below should only take ~10-30 seconds."
   ]
  },
  {
   "cell_type": "code",
   "execution_count": 17,
   "metadata": {
    "scrolled": true
   },
   "outputs": [
    {
     "name": "stdout",
     "output_type": "stream",
     "text": [
      "Fitting 5 folds for each of 35 candidates, totalling 175 fits\n",
      "[CV 1/5; 1/35] START C=0.1, kernel=linear.......................................\n",
      "[CV 1/5; 1/35] END .....................C=0.1, kernel=linear; total time=   0.0s\n",
      "[CV 2/5; 1/35] START C=0.1, kernel=linear.......................................\n",
      "[CV 2/5; 1/35] END .....................C=0.1, kernel=linear; total time=   0.0s\n",
      "[CV 3/5; 1/35] START C=0.1, kernel=linear.......................................\n",
      "[CV 3/5; 1/35] END .....................C=0.1, kernel=linear; total time=   0.0s\n",
      "[CV 4/5; 1/35] START C=0.1, kernel=linear.......................................\n"
     ]
    },
    {
     "name": "stderr",
     "output_type": "stream",
     "text": [
      "C:\\Users\\Lenovo\\anaconda3\\lib\\site-packages\\sklearn\\model_selection\\_split.py:666: UserWarning: The least populated class in y has only 3 members, which is less than n_splits=5.\n",
      "  warnings.warn((\"The least populated class in y has only %d\"\n"
     ]
    },
    {
     "name": "stdout",
     "output_type": "stream",
     "text": [
      "[CV 4/5; 1/35] END .....................C=0.1, kernel=linear; total time=   0.0s\n",
      "[CV 5/5; 1/35] START C=0.1, kernel=linear.......................................\n",
      "[CV 5/5; 1/35] END .....................C=0.1, kernel=linear; total time=   0.0s\n",
      "[CV 1/5; 2/35] START C=1, kernel=linear.........................................\n",
      "[CV 1/5; 2/35] END .......................C=1, kernel=linear; total time=   0.0s\n",
      "[CV 2/5; 2/35] START C=1, kernel=linear.........................................\n",
      "[CV 2/5; 2/35] END .......................C=1, kernel=linear; total time=   0.0s\n",
      "[CV 3/5; 2/35] START C=1, kernel=linear.........................................\n",
      "[CV 3/5; 2/35] END .......................C=1, kernel=linear; total time=   0.0s\n",
      "[CV 4/5; 2/35] START C=1, kernel=linear.........................................\n",
      "[CV 4/5; 2/35] END .......................C=1, kernel=linear; total time=   0.0s\n",
      "[CV 5/5; 2/35] START C=1, kernel=linear.........................................\n",
      "[CV 5/5; 2/35] END .......................C=1, kernel=linear; total time=   0.0s\n",
      "[CV 1/5; 3/35] START C=10, kernel=linear........................................\n",
      "[CV 1/5; 3/35] END ......................C=10, kernel=linear; total time=   0.0s\n",
      "[CV 2/5; 3/35] START C=10, kernel=linear........................................\n",
      "[CV 2/5; 3/35] END ......................C=10, kernel=linear; total time=   0.0s\n",
      "[CV 3/5; 3/35] START C=10, kernel=linear........................................\n",
      "[CV 3/5; 3/35] END ......................C=10, kernel=linear; total time=   0.0s\n",
      "[CV 4/5; 3/35] START C=10, kernel=linear........................................\n",
      "[CV 4/5; 3/35] END ......................C=10, kernel=linear; total time=   0.0s\n",
      "[CV 5/5; 3/35] START C=10, kernel=linear........................................\n",
      "[CV 5/5; 3/35] END ......................C=10, kernel=linear; total time=   0.0s\n",
      "[CV 1/5; 4/35] START C=100, kernel=linear.......................................\n",
      "[CV 1/5; 4/35] END .....................C=100, kernel=linear; total time=   0.0s\n",
      "[CV 2/5; 4/35] START C=100, kernel=linear.......................................\n",
      "[CV 2/5; 4/35] END .....................C=100, kernel=linear; total time=   0.0s\n",
      "[CV 3/5; 4/35] START C=100, kernel=linear.......................................\n",
      "[CV 3/5; 4/35] END .....................C=100, kernel=linear; total time=   0.0s\n",
      "[CV 4/5; 4/35] START C=100, kernel=linear.......................................\n",
      "[CV 4/5; 4/35] END .....................C=100, kernel=linear; total time=   0.0s\n",
      "[CV 5/5; 4/35] START C=100, kernel=linear.......................................\n",
      "[CV 5/5; 4/35] END .....................C=100, kernel=linear; total time=   0.0s\n",
      "[CV 1/5; 5/35] START C=1000, kernel=linear......................................\n",
      "[CV 1/5; 5/35] END ....................C=1000, kernel=linear; total time=   2.2s\n",
      "[CV 2/5; 5/35] START C=1000, kernel=linear......................................\n",
      "[CV 2/5; 5/35] END ....................C=1000, kernel=linear; total time=   0.8s\n",
      "[CV 3/5; 5/35] START C=1000, kernel=linear......................................\n",
      "[CV 3/5; 5/35] END ....................C=1000, kernel=linear; total time=   0.8s\n",
      "[CV 4/5; 5/35] START C=1000, kernel=linear......................................\n",
      "[CV 4/5; 5/35] END ....................C=1000, kernel=linear; total time=   0.1s\n",
      "[CV 5/5; 5/35] START C=1000, kernel=linear......................................\n",
      "[CV 5/5; 5/35] END ....................C=1000, kernel=linear; total time=   0.1s\n",
      "[CV 1/5; 6/35] START C=0.1, gamma=0.0001, kernel=rbf............................\n",
      "[CV 1/5; 6/35] END ..........C=0.1, gamma=0.0001, kernel=rbf; total time=   0.0s\n",
      "[CV 2/5; 6/35] START C=0.1, gamma=0.0001, kernel=rbf............................\n",
      "[CV 2/5; 6/35] END ..........C=0.1, gamma=0.0001, kernel=rbf; total time=   0.0s\n",
      "[CV 3/5; 6/35] START C=0.1, gamma=0.0001, kernel=rbf............................\n",
      "[CV 3/5; 6/35] END ..........C=0.1, gamma=0.0001, kernel=rbf; total time=   0.0s\n",
      "[CV 4/5; 6/35] START C=0.1, gamma=0.0001, kernel=rbf............................\n",
      "[CV 4/5; 6/35] END ..........C=0.1, gamma=0.0001, kernel=rbf; total time=   0.0s\n",
      "[CV 5/5; 6/35] START C=0.1, gamma=0.0001, kernel=rbf............................\n",
      "[CV 5/5; 6/35] END ..........C=0.1, gamma=0.0001, kernel=rbf; total time=   0.0s\n",
      "[CV 1/5; 7/35] START C=0.1, gamma=0.001, kernel=rbf.............................\n",
      "[CV 1/5; 7/35] END ...........C=0.1, gamma=0.001, kernel=rbf; total time=   0.0s\n",
      "[CV 2/5; 7/35] START C=0.1, gamma=0.001, kernel=rbf.............................\n",
      "[CV 2/5; 7/35] END ...........C=0.1, gamma=0.001, kernel=rbf; total time=   0.0s\n",
      "[CV 3/5; 7/35] START C=0.1, gamma=0.001, kernel=rbf.............................\n",
      "[CV 3/5; 7/35] END ...........C=0.1, gamma=0.001, kernel=rbf; total time=   0.0s\n",
      "[CV 4/5; 7/35] START C=0.1, gamma=0.001, kernel=rbf.............................\n",
      "[CV 4/5; 7/35] END ...........C=0.1, gamma=0.001, kernel=rbf; total time=   0.0s\n",
      "[CV 5/5; 7/35] START C=0.1, gamma=0.001, kernel=rbf.............................\n",
      "[CV 5/5; 7/35] END ...........C=0.1, gamma=0.001, kernel=rbf; total time=   0.0s\n",
      "[CV 1/5; 8/35] START C=0.1, gamma=0.01, kernel=rbf..............................\n",
      "[CV 1/5; 8/35] END ............C=0.1, gamma=0.01, kernel=rbf; total time=   0.0s\n",
      "[CV 2/5; 8/35] START C=0.1, gamma=0.01, kernel=rbf..............................\n",
      "[CV 2/5; 8/35] END ............C=0.1, gamma=0.01, kernel=rbf; total time=   0.0s\n",
      "[CV 3/5; 8/35] START C=0.1, gamma=0.01, kernel=rbf..............................\n",
      "[CV 3/5; 8/35] END ............C=0.1, gamma=0.01, kernel=rbf; total time=   0.0s\n",
      "[CV 4/5; 8/35] START C=0.1, gamma=0.01, kernel=rbf..............................\n",
      "[CV 4/5; 8/35] END ............C=0.1, gamma=0.01, kernel=rbf; total time=   0.0s\n",
      "[CV 5/5; 8/35] START C=0.1, gamma=0.01, kernel=rbf..............................\n",
      "[CV 5/5; 8/35] END ............C=0.1, gamma=0.01, kernel=rbf; total time=   0.0s\n",
      "[CV 1/5; 9/35] START C=0.1, gamma=0.1, kernel=rbf...............................\n",
      "[CV 1/5; 9/35] END .............C=0.1, gamma=0.1, kernel=rbf; total time=   0.0s\n",
      "[CV 2/5; 9/35] START C=0.1, gamma=0.1, kernel=rbf...............................\n",
      "[CV 2/5; 9/35] END .............C=0.1, gamma=0.1, kernel=rbf; total time=   0.0s\n",
      "[CV 3/5; 9/35] START C=0.1, gamma=0.1, kernel=rbf...............................\n",
      "[CV 3/5; 9/35] END .............C=0.1, gamma=0.1, kernel=rbf; total time=   0.0s\n",
      "[CV 4/5; 9/35] START C=0.1, gamma=0.1, kernel=rbf...............................\n",
      "[CV 4/5; 9/35] END .............C=0.1, gamma=0.1, kernel=rbf; total time=   0.0s\n",
      "[CV 5/5; 9/35] START C=0.1, gamma=0.1, kernel=rbf...............................\n",
      "[CV 5/5; 9/35] END .............C=0.1, gamma=0.1, kernel=rbf; total time=   0.0s\n",
      "[CV 1/5; 10/35] START C=0.1, gamma=1, kernel=rbf................................\n",
      "[CV 1/5; 10/35] END ..............C=0.1, gamma=1, kernel=rbf; total time=   0.0s\n",
      "[CV 2/5; 10/35] START C=0.1, gamma=1, kernel=rbf................................\n",
      "[CV 2/5; 10/35] END ..............C=0.1, gamma=1, kernel=rbf; total time=   0.0s\n",
      "[CV 3/5; 10/35] START C=0.1, gamma=1, kernel=rbf................................\n",
      "[CV 3/5; 10/35] END ..............C=0.1, gamma=1, kernel=rbf; total time=   0.0s\n",
      "[CV 4/5; 10/35] START C=0.1, gamma=1, kernel=rbf................................\n",
      "[CV 4/5; 10/35] END ..............C=0.1, gamma=1, kernel=rbf; total time=   0.0s\n",
      "[CV 5/5; 10/35] START C=0.1, gamma=1, kernel=rbf................................\n",
      "[CV 5/5; 10/35] END ..............C=0.1, gamma=1, kernel=rbf; total time=   0.0s\n",
      "[CV 1/5; 11/35] START C=0.1, gamma=10, kernel=rbf...............................\n",
      "[CV 1/5; 11/35] END .............C=0.1, gamma=10, kernel=rbf; total time=   0.0s\n",
      "[CV 2/5; 11/35] START C=0.1, gamma=10, kernel=rbf...............................\n",
      "[CV 2/5; 11/35] END .............C=0.1, gamma=10, kernel=rbf; total time=   0.0s\n",
      "[CV 3/5; 11/35] START C=0.1, gamma=10, kernel=rbf...............................\n",
      "[CV 3/5; 11/35] END .............C=0.1, gamma=10, kernel=rbf; total time=   0.0s\n",
      "[CV 4/5; 11/35] START C=0.1, gamma=10, kernel=rbf...............................\n",
      "[CV 4/5; 11/35] END .............C=0.1, gamma=10, kernel=rbf; total time=   0.0s\n",
      "[CV 5/5; 11/35] START C=0.1, gamma=10, kernel=rbf...............................\n"
     ]
    },
    {
     "name": "stdout",
     "output_type": "stream",
     "text": [
      "[CV 5/5; 11/35] END .............C=0.1, gamma=10, kernel=rbf; total time=   0.0s\n",
      "[CV 1/5; 12/35] START C=1, gamma=0.0001, kernel=rbf.............................\n",
      "[CV 1/5; 12/35] END ...........C=1, gamma=0.0001, kernel=rbf; total time=   0.0s\n",
      "[CV 2/5; 12/35] START C=1, gamma=0.0001, kernel=rbf.............................\n",
      "[CV 2/5; 12/35] END ...........C=1, gamma=0.0001, kernel=rbf; total time=   0.0s\n",
      "[CV 3/5; 12/35] START C=1, gamma=0.0001, kernel=rbf.............................\n",
      "[CV 3/5; 12/35] END ...........C=1, gamma=0.0001, kernel=rbf; total time=   0.0s\n",
      "[CV 4/5; 12/35] START C=1, gamma=0.0001, kernel=rbf.............................\n",
      "[CV 4/5; 12/35] END ...........C=1, gamma=0.0001, kernel=rbf; total time=   0.0s\n",
      "[CV 5/5; 12/35] START C=1, gamma=0.0001, kernel=rbf.............................\n",
      "[CV 5/5; 12/35] END ...........C=1, gamma=0.0001, kernel=rbf; total time=   0.0s\n",
      "[CV 1/5; 13/35] START C=1, gamma=0.001, kernel=rbf..............................\n",
      "[CV 1/5; 13/35] END ............C=1, gamma=0.001, kernel=rbf; total time=   0.0s\n",
      "[CV 2/5; 13/35] START C=1, gamma=0.001, kernel=rbf..............................\n",
      "[CV 2/5; 13/35] END ............C=1, gamma=0.001, kernel=rbf; total time=   0.0s\n",
      "[CV 3/5; 13/35] START C=1, gamma=0.001, kernel=rbf..............................\n",
      "[CV 3/5; 13/35] END ............C=1, gamma=0.001, kernel=rbf; total time=   0.0s\n",
      "[CV 4/5; 13/35] START C=1, gamma=0.001, kernel=rbf..............................\n",
      "[CV 4/5; 13/35] END ............C=1, gamma=0.001, kernel=rbf; total time=   0.0s\n",
      "[CV 5/5; 13/35] START C=1, gamma=0.001, kernel=rbf..............................\n",
      "[CV 5/5; 13/35] END ............C=1, gamma=0.001, kernel=rbf; total time=   0.0s\n",
      "[CV 1/5; 14/35] START C=1, gamma=0.01, kernel=rbf...............................\n",
      "[CV 1/5; 14/35] END .............C=1, gamma=0.01, kernel=rbf; total time=   0.0s\n",
      "[CV 2/5; 14/35] START C=1, gamma=0.01, kernel=rbf...............................\n",
      "[CV 2/5; 14/35] END .............C=1, gamma=0.01, kernel=rbf; total time=   0.0s\n",
      "[CV 3/5; 14/35] START C=1, gamma=0.01, kernel=rbf...............................\n",
      "[CV 3/5; 14/35] END .............C=1, gamma=0.01, kernel=rbf; total time=   0.0s\n",
      "[CV 4/5; 14/35] START C=1, gamma=0.01, kernel=rbf...............................\n",
      "[CV 4/5; 14/35] END .............C=1, gamma=0.01, kernel=rbf; total time=   0.0s\n",
      "[CV 5/5; 14/35] START C=1, gamma=0.01, kernel=rbf...............................\n",
      "[CV 5/5; 14/35] END .............C=1, gamma=0.01, kernel=rbf; total time=   0.0s\n",
      "[CV 1/5; 15/35] START C=1, gamma=0.1, kernel=rbf................................\n",
      "[CV 1/5; 15/35] END ..............C=1, gamma=0.1, kernel=rbf; total time=   0.0s\n",
      "[CV 2/5; 15/35] START C=1, gamma=0.1, kernel=rbf................................\n",
      "[CV 2/5; 15/35] END ..............C=1, gamma=0.1, kernel=rbf; total time=   0.0s\n",
      "[CV 3/5; 15/35] START C=1, gamma=0.1, kernel=rbf................................\n",
      "[CV 3/5; 15/35] END ..............C=1, gamma=0.1, kernel=rbf; total time=   0.0s\n",
      "[CV 4/5; 15/35] START C=1, gamma=0.1, kernel=rbf................................\n",
      "[CV 4/5; 15/35] END ..............C=1, gamma=0.1, kernel=rbf; total time=   0.0s\n",
      "[CV 5/5; 15/35] START C=1, gamma=0.1, kernel=rbf................................\n",
      "[CV 5/5; 15/35] END ..............C=1, gamma=0.1, kernel=rbf; total time=   0.0s\n",
      "[CV 1/5; 16/35] START C=1, gamma=1, kernel=rbf..................................\n",
      "[CV 1/5; 16/35] END ................C=1, gamma=1, kernel=rbf; total time=   0.0s\n",
      "[CV 2/5; 16/35] START C=1, gamma=1, kernel=rbf..................................\n",
      "[CV 2/5; 16/35] END ................C=1, gamma=1, kernel=rbf; total time=   0.0s\n",
      "[CV 3/5; 16/35] START C=1, gamma=1, kernel=rbf..................................\n",
      "[CV 3/5; 16/35] END ................C=1, gamma=1, kernel=rbf; total time=   0.0s\n",
      "[CV 4/5; 16/35] START C=1, gamma=1, kernel=rbf..................................\n",
      "[CV 4/5; 16/35] END ................C=1, gamma=1, kernel=rbf; total time=   0.0s\n",
      "[CV 5/5; 16/35] START C=1, gamma=1, kernel=rbf..................................\n",
      "[CV 5/5; 16/35] END ................C=1, gamma=1, kernel=rbf; total time=   0.0s\n",
      "[CV 1/5; 17/35] START C=1, gamma=10, kernel=rbf.................................\n",
      "[CV 1/5; 17/35] END ...............C=1, gamma=10, kernel=rbf; total time=   0.0s\n",
      "[CV 2/5; 17/35] START C=1, gamma=10, kernel=rbf.................................\n",
      "[CV 2/5; 17/35] END ...............C=1, gamma=10, kernel=rbf; total time=   0.0s\n",
      "[CV 3/5; 17/35] START C=1, gamma=10, kernel=rbf.................................\n",
      "[CV 3/5; 17/35] END ...............C=1, gamma=10, kernel=rbf; total time=   0.0s\n",
      "[CV 4/5; 17/35] START C=1, gamma=10, kernel=rbf.................................\n",
      "[CV 4/5; 17/35] END ...............C=1, gamma=10, kernel=rbf; total time=   0.0s\n",
      "[CV 5/5; 17/35] START C=1, gamma=10, kernel=rbf.................................\n",
      "[CV 5/5; 17/35] END ...............C=1, gamma=10, kernel=rbf; total time=   0.0s\n",
      "[CV 1/5; 18/35] START C=10, gamma=0.0001, kernel=rbf............................\n",
      "[CV 1/5; 18/35] END ..........C=10, gamma=0.0001, kernel=rbf; total time=   0.0s\n",
      "[CV 2/5; 18/35] START C=10, gamma=0.0001, kernel=rbf............................\n",
      "[CV 2/5; 18/35] END ..........C=10, gamma=0.0001, kernel=rbf; total time=   0.0s\n",
      "[CV 3/5; 18/35] START C=10, gamma=0.0001, kernel=rbf............................\n",
      "[CV 3/5; 18/35] END ..........C=10, gamma=0.0001, kernel=rbf; total time=   0.0s\n",
      "[CV 4/5; 18/35] START C=10, gamma=0.0001, kernel=rbf............................\n",
      "[CV 4/5; 18/35] END ..........C=10, gamma=0.0001, kernel=rbf; total time=   0.0s\n",
      "[CV 5/5; 18/35] START C=10, gamma=0.0001, kernel=rbf............................\n",
      "[CV 5/5; 18/35] END ..........C=10, gamma=0.0001, kernel=rbf; total time=   0.0s\n",
      "[CV 1/5; 19/35] START C=10, gamma=0.001, kernel=rbf.............................\n",
      "[CV 1/5; 19/35] END ...........C=10, gamma=0.001, kernel=rbf; total time=   0.0s\n",
      "[CV 2/5; 19/35] START C=10, gamma=0.001, kernel=rbf.............................\n",
      "[CV 2/5; 19/35] END ...........C=10, gamma=0.001, kernel=rbf; total time=   0.0s\n",
      "[CV 3/5; 19/35] START C=10, gamma=0.001, kernel=rbf.............................\n",
      "[CV 3/5; 19/35] END ...........C=10, gamma=0.001, kernel=rbf; total time=   0.0s\n",
      "[CV 4/5; 19/35] START C=10, gamma=0.001, kernel=rbf.............................\n",
      "[CV 4/5; 19/35] END ...........C=10, gamma=0.001, kernel=rbf; total time=   0.0s\n",
      "[CV 5/5; 19/35] START C=10, gamma=0.001, kernel=rbf.............................\n",
      "[CV 5/5; 19/35] END ...........C=10, gamma=0.001, kernel=rbf; total time=   0.0s\n",
      "[CV 1/5; 20/35] START C=10, gamma=0.01, kernel=rbf..............................\n",
      "[CV 1/5; 20/35] END ............C=10, gamma=0.01, kernel=rbf; total time=   0.0s\n",
      "[CV 2/5; 20/35] START C=10, gamma=0.01, kernel=rbf..............................\n",
      "[CV 2/5; 20/35] END ............C=10, gamma=0.01, kernel=rbf; total time=   0.0s\n",
      "[CV 3/5; 20/35] START C=10, gamma=0.01, kernel=rbf..............................\n",
      "[CV 3/5; 20/35] END ............C=10, gamma=0.01, kernel=rbf; total time=   0.0s\n",
      "[CV 4/5; 20/35] START C=10, gamma=0.01, kernel=rbf..............................\n",
      "[CV 4/5; 20/35] END ............C=10, gamma=0.01, kernel=rbf; total time=   0.0s\n",
      "[CV 5/5; 20/35] START C=10, gamma=0.01, kernel=rbf..............................\n",
      "[CV 5/5; 20/35] END ............C=10, gamma=0.01, kernel=rbf; total time=   0.0s\n",
      "[CV 1/5; 21/35] START C=10, gamma=0.1, kernel=rbf...............................\n",
      "[CV 1/5; 21/35] END .............C=10, gamma=0.1, kernel=rbf; total time=   0.0s\n",
      "[CV 2/5; 21/35] START C=10, gamma=0.1, kernel=rbf...............................\n",
      "[CV 2/5; 21/35] END .............C=10, gamma=0.1, kernel=rbf; total time=   0.0s\n",
      "[CV 3/5; 21/35] START C=10, gamma=0.1, kernel=rbf...............................\n",
      "[CV 3/5; 21/35] END .............C=10, gamma=0.1, kernel=rbf; total time=   0.0s\n",
      "[CV 4/5; 21/35] START C=10, gamma=0.1, kernel=rbf...............................\n",
      "[CV 4/5; 21/35] END .............C=10, gamma=0.1, kernel=rbf; total time=   0.0s\n",
      "[CV 5/5; 21/35] START C=10, gamma=0.1, kernel=rbf...............................\n",
      "[CV 5/5; 21/35] END .............C=10, gamma=0.1, kernel=rbf; total time=   0.0s\n",
      "[CV 1/5; 22/35] START C=10, gamma=1, kernel=rbf.................................\n"
     ]
    },
    {
     "name": "stdout",
     "output_type": "stream",
     "text": [
      "[CV 1/5; 22/35] END ...............C=10, gamma=1, kernel=rbf; total time=   0.0s\n",
      "[CV 2/5; 22/35] START C=10, gamma=1, kernel=rbf.................................\n",
      "[CV 2/5; 22/35] END ...............C=10, gamma=1, kernel=rbf; total time=   0.0s\n",
      "[CV 3/5; 22/35] START C=10, gamma=1, kernel=rbf.................................\n",
      "[CV 3/5; 22/35] END ...............C=10, gamma=1, kernel=rbf; total time=   0.0s\n",
      "[CV 4/5; 22/35] START C=10, gamma=1, kernel=rbf.................................\n",
      "[CV 4/5; 22/35] END ...............C=10, gamma=1, kernel=rbf; total time=   0.0s\n",
      "[CV 5/5; 22/35] START C=10, gamma=1, kernel=rbf.................................\n",
      "[CV 5/5; 22/35] END ...............C=10, gamma=1, kernel=rbf; total time=   0.0s\n",
      "[CV 1/5; 23/35] START C=10, gamma=10, kernel=rbf................................\n",
      "[CV 1/5; 23/35] END ..............C=10, gamma=10, kernel=rbf; total time=   0.0s\n",
      "[CV 2/5; 23/35] START C=10, gamma=10, kernel=rbf................................\n",
      "[CV 2/5; 23/35] END ..............C=10, gamma=10, kernel=rbf; total time=   0.0s\n",
      "[CV 3/5; 23/35] START C=10, gamma=10, kernel=rbf................................\n",
      "[CV 3/5; 23/35] END ..............C=10, gamma=10, kernel=rbf; total time=   0.0s\n",
      "[CV 4/5; 23/35] START C=10, gamma=10, kernel=rbf................................\n",
      "[CV 4/5; 23/35] END ..............C=10, gamma=10, kernel=rbf; total time=   0.0s\n",
      "[CV 5/5; 23/35] START C=10, gamma=10, kernel=rbf................................\n",
      "[CV 5/5; 23/35] END ..............C=10, gamma=10, kernel=rbf; total time=   0.0s\n",
      "[CV 1/5; 24/35] START C=100, gamma=0.0001, kernel=rbf...........................\n",
      "[CV 1/5; 24/35] END .........C=100, gamma=0.0001, kernel=rbf; total time=   0.0s\n",
      "[CV 2/5; 24/35] START C=100, gamma=0.0001, kernel=rbf...........................\n",
      "[CV 2/5; 24/35] END .........C=100, gamma=0.0001, kernel=rbf; total time=   0.0s\n",
      "[CV 3/5; 24/35] START C=100, gamma=0.0001, kernel=rbf...........................\n",
      "[CV 3/5; 24/35] END .........C=100, gamma=0.0001, kernel=rbf; total time=   0.0s\n",
      "[CV 4/5; 24/35] START C=100, gamma=0.0001, kernel=rbf...........................\n",
      "[CV 4/5; 24/35] END .........C=100, gamma=0.0001, kernel=rbf; total time=   0.0s\n",
      "[CV 5/5; 24/35] START C=100, gamma=0.0001, kernel=rbf...........................\n",
      "[CV 5/5; 24/35] END .........C=100, gamma=0.0001, kernel=rbf; total time=   0.0s\n",
      "[CV 1/5; 25/35] START C=100, gamma=0.001, kernel=rbf............................\n",
      "[CV 1/5; 25/35] END ..........C=100, gamma=0.001, kernel=rbf; total time=   0.0s\n",
      "[CV 2/5; 25/35] START C=100, gamma=0.001, kernel=rbf............................\n",
      "[CV 2/5; 25/35] END ..........C=100, gamma=0.001, kernel=rbf; total time=   0.0s\n",
      "[CV 3/5; 25/35] START C=100, gamma=0.001, kernel=rbf............................\n",
      "[CV 3/5; 25/35] END ..........C=100, gamma=0.001, kernel=rbf; total time=   0.0s\n",
      "[CV 4/5; 25/35] START C=100, gamma=0.001, kernel=rbf............................\n",
      "[CV 4/5; 25/35] END ..........C=100, gamma=0.001, kernel=rbf; total time=   0.0s\n",
      "[CV 5/5; 25/35] START C=100, gamma=0.001, kernel=rbf............................\n",
      "[CV 5/5; 25/35] END ..........C=100, gamma=0.001, kernel=rbf; total time=   0.0s\n",
      "[CV 1/5; 26/35] START C=100, gamma=0.01, kernel=rbf.............................\n",
      "[CV 1/5; 26/35] END ...........C=100, gamma=0.01, kernel=rbf; total time=   0.0s\n",
      "[CV 2/5; 26/35] START C=100, gamma=0.01, kernel=rbf.............................\n",
      "[CV 2/5; 26/35] END ...........C=100, gamma=0.01, kernel=rbf; total time=   0.0s\n",
      "[CV 3/5; 26/35] START C=100, gamma=0.01, kernel=rbf.............................\n",
      "[CV 3/5; 26/35] END ...........C=100, gamma=0.01, kernel=rbf; total time=   0.0s\n",
      "[CV 4/5; 26/35] START C=100, gamma=0.01, kernel=rbf.............................\n",
      "[CV 4/5; 26/35] END ...........C=100, gamma=0.01, kernel=rbf; total time=   0.0s\n",
      "[CV 5/5; 26/35] START C=100, gamma=0.01, kernel=rbf.............................\n",
      "[CV 5/5; 26/35] END ...........C=100, gamma=0.01, kernel=rbf; total time=   0.0s\n",
      "[CV 1/5; 27/35] START C=100, gamma=0.1, kernel=rbf..............................\n",
      "[CV 1/5; 27/35] END ............C=100, gamma=0.1, kernel=rbf; total time=   0.0s\n",
      "[CV 2/5; 27/35] START C=100, gamma=0.1, kernel=rbf..............................\n",
      "[CV 2/5; 27/35] END ............C=100, gamma=0.1, kernel=rbf; total time=   0.0s\n",
      "[CV 3/5; 27/35] START C=100, gamma=0.1, kernel=rbf..............................\n",
      "[CV 3/5; 27/35] END ............C=100, gamma=0.1, kernel=rbf; total time=   0.0s\n",
      "[CV 4/5; 27/35] START C=100, gamma=0.1, kernel=rbf..............................\n",
      "[CV 4/5; 27/35] END ............C=100, gamma=0.1, kernel=rbf; total time=   0.0s\n",
      "[CV 5/5; 27/35] START C=100, gamma=0.1, kernel=rbf..............................\n",
      "[CV 5/5; 27/35] END ............C=100, gamma=0.1, kernel=rbf; total time=   0.0s\n",
      "[CV 1/5; 28/35] START C=100, gamma=1, kernel=rbf................................\n",
      "[CV 1/5; 28/35] END ..............C=100, gamma=1, kernel=rbf; total time=   0.0s\n",
      "[CV 2/5; 28/35] START C=100, gamma=1, kernel=rbf................................\n",
      "[CV 2/5; 28/35] END ..............C=100, gamma=1, kernel=rbf; total time=   0.0s\n",
      "[CV 3/5; 28/35] START C=100, gamma=1, kernel=rbf................................\n",
      "[CV 3/5; 28/35] END ..............C=100, gamma=1, kernel=rbf; total time=   0.0s\n",
      "[CV 4/5; 28/35] START C=100, gamma=1, kernel=rbf................................\n",
      "[CV 4/5; 28/35] END ..............C=100, gamma=1, kernel=rbf; total time=   0.0s\n",
      "[CV 5/5; 28/35] START C=100, gamma=1, kernel=rbf................................\n",
      "[CV 5/5; 28/35] END ..............C=100, gamma=1, kernel=rbf; total time=   0.0s\n",
      "[CV 1/5; 29/35] START C=100, gamma=10, kernel=rbf...............................\n",
      "[CV 1/5; 29/35] END .............C=100, gamma=10, kernel=rbf; total time=   0.0s\n",
      "[CV 2/5; 29/35] START C=100, gamma=10, kernel=rbf...............................\n",
      "[CV 2/5; 29/35] END .............C=100, gamma=10, kernel=rbf; total time=   0.0s\n",
      "[CV 3/5; 29/35] START C=100, gamma=10, kernel=rbf...............................\n",
      "[CV 3/5; 29/35] END .............C=100, gamma=10, kernel=rbf; total time=   0.0s\n",
      "[CV 4/5; 29/35] START C=100, gamma=10, kernel=rbf...............................\n",
      "[CV 4/5; 29/35] END .............C=100, gamma=10, kernel=rbf; total time=   0.0s\n",
      "[CV 5/5; 29/35] START C=100, gamma=10, kernel=rbf...............................\n",
      "[CV 5/5; 29/35] END .............C=100, gamma=10, kernel=rbf; total time=   0.0s\n",
      "[CV 1/5; 30/35] START C=1000, gamma=0.0001, kernel=rbf..........................\n",
      "[CV 1/5; 30/35] END ........C=1000, gamma=0.0001, kernel=rbf; total time=   0.0s\n",
      "[CV 2/5; 30/35] START C=1000, gamma=0.0001, kernel=rbf..........................\n",
      "[CV 2/5; 30/35] END ........C=1000, gamma=0.0001, kernel=rbf; total time=   0.0s\n",
      "[CV 3/5; 30/35] START C=1000, gamma=0.0001, kernel=rbf..........................\n",
      "[CV 3/5; 30/35] END ........C=1000, gamma=0.0001, kernel=rbf; total time=   0.0s\n",
      "[CV 4/5; 30/35] START C=1000, gamma=0.0001, kernel=rbf..........................\n",
      "[CV 4/5; 30/35] END ........C=1000, gamma=0.0001, kernel=rbf; total time=   0.0s\n",
      "[CV 5/5; 30/35] START C=1000, gamma=0.0001, kernel=rbf..........................\n",
      "[CV 5/5; 30/35] END ........C=1000, gamma=0.0001, kernel=rbf; total time=   0.0s\n",
      "[CV 1/5; 31/35] START C=1000, gamma=0.001, kernel=rbf...........................\n",
      "[CV 1/5; 31/35] END .........C=1000, gamma=0.001, kernel=rbf; total time=   0.0s\n",
      "[CV 2/5; 31/35] START C=1000, gamma=0.001, kernel=rbf...........................\n",
      "[CV 2/5; 31/35] END .........C=1000, gamma=0.001, kernel=rbf; total time=   0.0s\n",
      "[CV 3/5; 31/35] START C=1000, gamma=0.001, kernel=rbf...........................\n",
      "[CV 3/5; 31/35] END .........C=1000, gamma=0.001, kernel=rbf; total time=   0.0s\n",
      "[CV 4/5; 31/35] START C=1000, gamma=0.001, kernel=rbf...........................\n",
      "[CV 4/5; 31/35] END .........C=1000, gamma=0.001, kernel=rbf; total time=   0.0s\n",
      "[CV 5/5; 31/35] START C=1000, gamma=0.001, kernel=rbf...........................\n",
      "[CV 5/5; 31/35] END .........C=1000, gamma=0.001, kernel=rbf; total time=   0.0s\n",
      "[CV 1/5; 32/35] START C=1000, gamma=0.01, kernel=rbf............................\n",
      "[CV 1/5; 32/35] END ..........C=1000, gamma=0.01, kernel=rbf; total time=   0.0s\n",
      "[CV 2/5; 32/35] START C=1000, gamma=0.01, kernel=rbf............................\n",
      "[CV 2/5; 32/35] END ..........C=1000, gamma=0.01, kernel=rbf; total time=   0.0s\n",
      "[CV 3/5; 32/35] START C=1000, gamma=0.01, kernel=rbf............................\n"
     ]
    },
    {
     "name": "stdout",
     "output_type": "stream",
     "text": [
      "[CV 3/5; 32/35] END ..........C=1000, gamma=0.01, kernel=rbf; total time=   0.0s\n",
      "[CV 4/5; 32/35] START C=1000, gamma=0.01, kernel=rbf............................\n",
      "[CV 4/5; 32/35] END ..........C=1000, gamma=0.01, kernel=rbf; total time=   0.0s\n",
      "[CV 5/5; 32/35] START C=1000, gamma=0.01, kernel=rbf............................\n",
      "[CV 5/5; 32/35] END ..........C=1000, gamma=0.01, kernel=rbf; total time=   0.0s\n",
      "[CV 1/5; 33/35] START C=1000, gamma=0.1, kernel=rbf.............................\n",
      "[CV 1/5; 33/35] END ...........C=1000, gamma=0.1, kernel=rbf; total time=   0.0s\n",
      "[CV 2/5; 33/35] START C=1000, gamma=0.1, kernel=rbf.............................\n",
      "[CV 2/5; 33/35] END ...........C=1000, gamma=0.1, kernel=rbf; total time=   0.0s\n",
      "[CV 3/5; 33/35] START C=1000, gamma=0.1, kernel=rbf.............................\n",
      "[CV 3/5; 33/35] END ...........C=1000, gamma=0.1, kernel=rbf; total time=   0.0s\n",
      "[CV 4/5; 33/35] START C=1000, gamma=0.1, kernel=rbf.............................\n",
      "[CV 4/5; 33/35] END ...........C=1000, gamma=0.1, kernel=rbf; total time=   0.0s\n",
      "[CV 5/5; 33/35] START C=1000, gamma=0.1, kernel=rbf.............................\n",
      "[CV 5/5; 33/35] END ...........C=1000, gamma=0.1, kernel=rbf; total time=   0.0s\n",
      "[CV 1/5; 34/35] START C=1000, gamma=1, kernel=rbf...............................\n",
      "[CV 1/5; 34/35] END .............C=1000, gamma=1, kernel=rbf; total time=   0.0s\n",
      "[CV 2/5; 34/35] START C=1000, gamma=1, kernel=rbf...............................\n",
      "[CV 2/5; 34/35] END .............C=1000, gamma=1, kernel=rbf; total time=   0.1s\n",
      "[CV 3/5; 34/35] START C=1000, gamma=1, kernel=rbf...............................\n",
      "[CV 3/5; 34/35] END .............C=1000, gamma=1, kernel=rbf; total time=   0.1s\n",
      "[CV 4/5; 34/35] START C=1000, gamma=1, kernel=rbf...............................\n",
      "[CV 4/5; 34/35] END .............C=1000, gamma=1, kernel=rbf; total time=   0.1s\n",
      "[CV 5/5; 34/35] START C=1000, gamma=1, kernel=rbf...............................\n",
      "[CV 5/5; 34/35] END .............C=1000, gamma=1, kernel=rbf; total time=   0.0s\n",
      "[CV 1/5; 35/35] START C=1000, gamma=10, kernel=rbf..............................\n",
      "[CV 1/5; 35/35] END ............C=1000, gamma=10, kernel=rbf; total time=   0.3s\n",
      "[CV 2/5; 35/35] START C=1000, gamma=10, kernel=rbf..............................\n",
      "[CV 2/5; 35/35] END ............C=1000, gamma=10, kernel=rbf; total time=   0.2s\n",
      "[CV 3/5; 35/35] START C=1000, gamma=10, kernel=rbf..............................\n",
      "[CV 3/5; 35/35] END ............C=1000, gamma=10, kernel=rbf; total time=   0.2s\n",
      "[CV 4/5; 35/35] START C=1000, gamma=10, kernel=rbf..............................\n",
      "[CV 4/5; 35/35] END ............C=1000, gamma=10, kernel=rbf; total time=   0.2s\n",
      "[CV 5/5; 35/35] START C=1000, gamma=10, kernel=rbf..............................\n",
      "[CV 5/5; 35/35] END ............C=1000, gamma=10, kernel=rbf; total time=   0.2s\n"
     ]
    },
    {
     "data": {
      "text/plain": [
       "GridSearchCV(estimator=SVC(random_state=42),\n",
       "             param_grid=[{'C': [0.1, 1, 10, 100, 1000], 'kernel': ['linear']},\n",
       "                         {'C': [0.1, 1, 10, 100, 1000],\n",
       "                          'gamma': [0.0001, 0.001, 0.01, 0.1, 1, 10],\n",
       "                          'kernel': ['rbf']}],\n",
       "             verbose=10)"
      ]
     },
     "execution_count": 17,
     "metadata": {},
     "output_type": "execute_result"
    }
   ],
   "source": [
    "# instantiate the SVC\n",
    "# provide an integer for random_state so that the output is reproducible\n",
    "svm = SVC(random_state = 42)\n",
    "\n",
    "# lists the possible values for the 3 important parameters - kernel, C, and gamma\n",
    "parameters = [\n",
    "    {'C' : [0.1, 1, 10, 100, 1000], 'kernel' : ['linear']},\n",
    "    {'C' : [0.1, 1, 10, 100, 1000], 'gamma' : [0.0001, 0.001, 0.01, 0.1, 1, 10], 'kernel' : [ 'rbf']}\n",
    "]\n",
    "\n",
    "# in the first parameter the estimator for which we want to test out the parameter combinations is passed in\n",
    "# In the second parameter, try every combination of parameter values for the provided estimator (svm)\n",
    "# verbose parameter controls its verbosity, a value of 1 just displays the total number of combinations\n",
    "opt_svm = GridSearchCV(svm, parameters, verbose=10)\n",
    "\n",
    "# fit the svm to the training set and try all the parameter combinations to find the best one\n",
    "opt_svm.fit(X_train, y_train)"
   ]
  },
  {
   "cell_type": "markdown",
   "metadata": {},
   "source": [
    "After the model has been fitted to the training set and the best parameters have been chosen, we can see which of the parameter values had the best result by accessing the *best_params_* attribute of GridSearchCV"
   ]
  },
  {
   "cell_type": "code",
   "execution_count": 18,
   "metadata": {},
   "outputs": [
    {
     "data": {
      "text/plain": [
       "{'C': 1000, 'gamma': 1, 'kernel': 'rbf'}"
      ]
     },
     "execution_count": 18,
     "metadata": {},
     "output_type": "execute_result"
    }
   ],
   "source": [
    "opt_svm.best_params_"
   ]
  },
  {
   "cell_type": "markdown",
   "metadata": {},
   "source": [
    "From this we can see that among the provided values for each parameter, a C value of 1000, a gamma of 1, and an rbf kernel performed the best with the given data"
   ]
  },
  {
   "cell_type": "markdown",
   "metadata": {},
   "source": [
    "### &emsp;Predicting"
   ]
  },
  {
   "cell_type": "markdown",
   "metadata": {},
   "source": [
    "Now that we have a trained SVM model, we can use it to predict the scores for the essays in the training set. We can do this by calling the *.predict()* function of the trained model and passing in the feature values of the essays in the test set. This results in an array of predicted scores for each of the essays in the test set."
   ]
  },
  {
   "cell_type": "code",
   "execution_count": 19,
   "metadata": {},
   "outputs": [],
   "source": [
    "# get the predictions of the essays in the test set\n",
    "predictions = opt_svm.predict(X_test)"
   ]
  },
  {
   "cell_type": "markdown",
   "metadata": {},
   "source": [
    "We can look at the predictions by simply printing out the *predictions* array"
   ]
  },
  {
   "cell_type": "code",
   "execution_count": 20,
   "metadata": {},
   "outputs": [
    {
     "data": {
      "text/plain": [
       "array([3, 4, 3, 2, 3, 4, 3, 4, 2, 3, 4, 3, 3, 3, 4, 3, 4, 3, 3, 3, 4, 3,\n",
       "       3, 4, 3, 4, 4, 3, 3, 4, 4, 4, 3, 4, 3, 3, 4, 3, 4, 3, 2, 4, 4, 4,\n",
       "       4, 3, 3, 2, 4, 3, 4, 3, 4, 4, 4, 2, 4, 3, 4, 4, 4, 3, 5, 4, 3, 5,\n",
       "       3, 4, 3, 3, 3, 4, 3, 2, 4, 3, 4, 4, 3, 4, 3, 3, 4, 4, 3, 3, 4, 4,\n",
       "       2, 3, 4, 3, 4, 4, 3, 4, 4, 4, 3, 3, 4, 3, 3, 4, 4, 4, 4, 4, 4, 3,\n",
       "       4, 4, 4, 3, 4, 4, 3, 4, 4, 3, 3, 2, 4, 3, 3, 4, 4, 3, 4, 3, 3, 4,\n",
       "       4, 3, 3, 3, 3, 3, 3, 3, 4, 4, 4, 4, 3, 4, 4, 3, 4, 4, 3, 3, 4, 3,\n",
       "       3, 1, 4, 4, 2, 3, 4, 3, 4, 2, 3, 4, 3, 3, 4, 3, 4, 3, 4, 3, 4, 4,\n",
       "       3, 4, 3, 4, 3, 3, 2, 3, 3, 4, 4, 3, 3, 2, 3, 4, 4, 4, 4, 4, 4, 4,\n",
       "       4, 4, 3, 4, 4, 3, 4, 4, 4, 4, 4, 4, 4, 3, 3, 3, 4, 3, 4, 4, 2, 3,\n",
       "       3, 3, 4, 3, 4, 3, 3, 3, 3, 2, 3, 4, 4, 4, 4, 3, 4, 4, 3, 3, 4, 4,\n",
       "       2, 4, 4, 4, 4, 3, 2, 3, 3, 3, 4, 3, 4, 4, 4, 1, 3, 3, 4, 3, 3, 4,\n",
       "       3, 4, 4], dtype=int64)"
      ]
     },
     "execution_count": 20,
     "metadata": {},
     "output_type": "execute_result"
    }
   ],
   "source": [
    "predictions"
   ]
  },
  {
   "cell_type": "markdown",
   "metadata": {},
   "source": [
    "To confirm that they are valid scores/predictions we can find the minimum and maximum score"
   ]
  },
  {
   "cell_type": "code",
   "execution_count": 21,
   "metadata": {},
   "outputs": [
    {
     "name": "stdout",
     "output_type": "stream",
     "text": [
      "Minimum score predicted:  1\n",
      "Maximum score predicted:  5\n"
     ]
    }
   ],
   "source": [
    "print(\"Minimum score predicted: \", predictions.min())\n",
    "print(\"Maximum score predicted: \", predictions.max())"
   ]
  },
  {
   "cell_type": "markdown",
   "metadata": {},
   "source": [
    "We can see that indeed the array consists of integers between 1 to 5 which is within the range of possible scores (1 to 6)"
   ]
  },
  {
   "cell_type": "markdown",
   "metadata": {},
   "source": [
    "# Evaluating Model Performance"
   ]
  },
  {
   "cell_type": "markdown",
   "metadata": {},
   "source": [
    "### &emsp;Confusion Matrix"
   ]
  },
  {
   "cell_type": "markdown",
   "metadata": {},
   "source": [
    "Since we are evaluating a classification model, we can use a confusion matrix which allows for the visualization of the model's performance by displaying a grid of the predicted labels against the actual labels.\n",
    "\n",
    "The first step is to compute the confusion matrix using the *confusion_matrix()* function from the *sklearn.metrics* module and pass in the actual labels along with the predicted labels. Then we can use the *ConfusionMatrixDisplay* class from the same module for the visual representation of this confusion matrix."
   ]
  },
  {
   "cell_type": "code",
   "execution_count": 22,
   "metadata": {},
   "outputs": [
    {
     "data": {
      "text/plain": [
       "<sklearn.metrics._plot.confusion_matrix.ConfusionMatrixDisplay at 0x23681463ca0>"
      ]
     },
     "execution_count": 22,
     "metadata": {},
     "output_type": "execute_result"
    },
    {
     "data": {
      "image/png": "[encoded data removed]",
      "text/plain": [
       "<Figure size 432x288 with 2 Axes>"
      ]
     },
     "metadata": {
      "needs_background": "light"
     },
     "output_type": "display_data"
    }
   ],
   "source": [
    "# compute the confusion matrix using the actual scores of the essays in the test set and the model predictions\n",
    "cm = confusion_matrix(y_test, predictions)\n",
    "# first parameter is the confusion matrix computed\n",
    "# display_labels parameter defines the list of possible labels (from 1 to 6), since essay scores range from 1-6\n",
    "disp = ConfusionMatrixDisplay(cm, display_labels=[1,2,3,4,5,6])\n",
    "\n",
    "# display the confusion matrix\n",
    "disp.plot()"
   ]
  },
  {
   "cell_type": "markdown",
   "metadata": {},
   "source": [
    "In the confusion matrix, the value in row i column j represents the number of essays for which the model predicted a score of j but actually has a score of i. For example, the value in row 1 column 2 is 3. This means that there are 3 essays for which the model predicted a score of 2 but in actuality, they had a score of 1.\n",
    "\n",
    "The most important thing to notice in the grid above are the values in the diagonal from the upper left to the lower right as they represent the number of predictions that are correct, the brighter the square the higher the frequency. Ideally this diagonal should be lit up. Notice here that aside from row 3 column 3, and row 4 column 4, all the other squares on this diagonal are quite dark however this does not necessarily mean that the model's performance is poor, in this case it simply means that there are comparably few essays with scores less than 3 or more than 4. For example, if we total up the values in row 6 we can see that there is only 1 essay that has a score of 6!\n",
    "\n",
    "Of course this means that values *not* on the diagonal should ideally be very dark as they represent wrong predictions.\n",
    "\n",
    "Therefore since the (middle of the) diagonal is well-lit and the squares that are *not* on the diagonal are mostly dark we can get some sense that the model's performance is quite good. We can reinforce this by testing the model with the QWK metric."
   ]
  },
  {
   "cell_type": "markdown",
   "metadata": {},
   "source": [
    "### &emsp;&emsp;QWK"
   ]
  },
  {
   "cell_type": "markdown",
   "metadata": {},
   "source": [
    "The Quadratic Weighted Kappa (QWK) is a metric that is used to evaluate the amount of agreement between the model or algorithm's predictions and the actual labels and tries to account for random chance by adjusting for the probability that the model's prediction agrees with the actual label \"by chance\". It does this by assuming that there is a predetermined proportion of objects assigned to each label. Most notably this metric is used to score submissions on *kaggle* (Arora, 2019).\n",
    "\n",
    "The possible scores resulting from this metric ranges from a minimum of -1.0 to a maximum score of 1.0, and the aim is to get as close to 1.0 as possible (Arora, 2019).\n",
    "\n",
    "We can compute the Quadratic Weighted Kappa metric by using the *cohen_kappa_score()* function in the *sklearn.metrics* module with the *weights* parameter set as 'quadratic'. In the code block below we are comparing the model's predictions with the actual scores (labels) to compute a score denoting the model's accuracy."
   ]
  },
  {
   "cell_type": "code",
   "execution_count": 23,
   "metadata": {},
   "outputs": [
    {
     "data": {
      "text/plain": [
       "0.7133519059590949"
      ]
     },
     "execution_count": 23,
     "metadata": {},
     "output_type": "execute_result"
    }
   ],
   "source": [
    "# display the QWK for the model predictions\n",
    "cohen_kappa_score(y_test, predictions, weights='quadratic')"
   ]
  },
  {
   "cell_type": "markdown",
   "metadata": {},
   "source": [
    "The highest possible score is 1.0 which denotes that the model's predictions are exactly the same as the actual labels, a score of 0.0 indicates that the model's predictions which do agree with the actual labels simply match \"by chance\". On the other hand, a score of -1.0 indicates that the model's predictions are as far away as possible from the actual labels (Arora, 2019).\n",
    "\n",
    "Typically, a score of 0.6+ is considered very good (Arora, 2019), therefore since we can see from the output of the code above that our model has a score of 0.71 we can now be confident that it is quite a good model."
   ]
  },
  {
   "cell_type": "markdown",
   "metadata": {},
   "source": [
    "# Kaggle Submission"
   ]
  },
  {
   "cell_type": "markdown",
   "metadata": {},
   "source": [
    "For the kaggle submission, I decided to use a random forest classifier as I found that it produces better results compared to using an SVM. My final score (kaggle) is **0.72775**."
   ]
  },
  {
   "cell_type": "markdown",
   "metadata": {},
   "source": [
    "## &emsp; Using the SVM Model"
   ]
  },
  {
   "cell_type": "markdown",
   "metadata": {},
   "source": [
    "Here I used the SVM model to output the predictions of the unlabeled data *'FIT1043-Essay-Features-Submission.csv'* into a formatted CSV file"
   ]
  },
  {
   "cell_type": "markdown",
   "metadata": {},
   "source": [
    "### &emsp; Reading File"
   ]
  },
  {
   "cell_type": "markdown",
   "metadata": {},
   "source": [
    "First we need to read the *'FIT1043-Essay-Features-Submission.csv'* file and convert it to a DataFrame by using the *.read_csv()* function from the *pandas* library"
   ]
  },
  {
   "cell_type": "code",
   "execution_count": 24,
   "metadata": {},
   "outputs": [],
   "source": [
    "kaggle_data = pd.read_csv('FIT1043-Essay-Features-Submission.csv')"
   ]
  },
  {
   "cell_type": "markdown",
   "metadata": {},
   "source": [
    "We can display the data that we have read to get a glimpse at the data. The most notable thing here is that it differs from the original dataset as it is missing the score column, this is because we are meant to fill this column with the predictions of our trained model."
   ]
  },
  {
   "cell_type": "code",
   "execution_count": 25,
   "metadata": {},
   "outputs": [
    {
     "data": {
      "text/html": [
       "<div>\n",
       "<style scoped>\n",
       "    .dataframe tbody tr th:only-of-type {\n",
       "        vertical-align: middle;\n",
       "    }\n",
       "\n",
       "    .dataframe tbody tr th {\n",
       "        vertical-align: top;\n",
       "    }\n",
       "\n",
       "    .dataframe thead th {\n",
       "        text-align: right;\n",
       "    }\n",
       "</style>\n",
       "<table border=\"1\" class=\"dataframe\">\n",
       "  <thead>\n",
       "    <tr style=\"text-align: right;\">\n",
       "      <th></th>\n",
       "      <th>essayid</th>\n",
       "      <th>chars</th>\n",
       "      <th>words</th>\n",
       "      <th>commas</th>\n",
       "      <th>apostrophes</th>\n",
       "      <th>punctuations</th>\n",
       "      <th>avg_word_length</th>\n",
       "      <th>sentences</th>\n",
       "      <th>questions</th>\n",
       "      <th>avg_word_sentence</th>\n",
       "      <th>POS</th>\n",
       "      <th>POS/total_words</th>\n",
       "      <th>prompt_words</th>\n",
       "      <th>prompt_words/total_words</th>\n",
       "      <th>synonym_words</th>\n",
       "      <th>synonym_words/total_words</th>\n",
       "      <th>unstemmed</th>\n",
       "      <th>stemmed</th>\n",
       "    </tr>\n",
       "  </thead>\n",
       "  <tbody>\n",
       "    <tr>\n",
       "      <th>0</th>\n",
       "      <td>1623</td>\n",
       "      <td>4332</td>\n",
       "      <td>900</td>\n",
       "      <td>28</td>\n",
       "      <td>13</td>\n",
       "      <td>0</td>\n",
       "      <td>4.813333</td>\n",
       "      <td>39</td>\n",
       "      <td>1</td>\n",
       "      <td>23.076923</td>\n",
       "      <td>893.988852</td>\n",
       "      <td>0.993321</td>\n",
       "      <td>392</td>\n",
       "      <td>0.435556</td>\n",
       "      <td>196</td>\n",
       "      <td>0.217778</td>\n",
       "      <td>750</td>\n",
       "      <td>750</td>\n",
       "    </tr>\n",
       "    <tr>\n",
       "      <th>1</th>\n",
       "      <td>1143</td>\n",
       "      <td>1465</td>\n",
       "      <td>280</td>\n",
       "      <td>11</td>\n",
       "      <td>3</td>\n",
       "      <td>1</td>\n",
       "      <td>5.232143</td>\n",
       "      <td>14</td>\n",
       "      <td>3</td>\n",
       "      <td>20.000000</td>\n",
       "      <td>278.321343</td>\n",
       "      <td>0.994005</td>\n",
       "      <td>131</td>\n",
       "      <td>0.467857</td>\n",
       "      <td>51</td>\n",
       "      <td>0.182143</td>\n",
       "      <td>339</td>\n",
       "      <td>316</td>\n",
       "    </tr>\n",
       "    <tr>\n",
       "      <th>2</th>\n",
       "      <td>660</td>\n",
       "      <td>1696</td>\n",
       "      <td>325</td>\n",
       "      <td>17</td>\n",
       "      <td>2</td>\n",
       "      <td>0</td>\n",
       "      <td>5.218462</td>\n",
       "      <td>19</td>\n",
       "      <td>1</td>\n",
       "      <td>17.105263</td>\n",
       "      <td>321.316770</td>\n",
       "      <td>0.988667</td>\n",
       "      <td>178</td>\n",
       "      <td>0.547692</td>\n",
       "      <td>92</td>\n",
       "      <td>0.283077</td>\n",
       "      <td>352</td>\n",
       "      <td>337</td>\n",
       "    </tr>\n",
       "    <tr>\n",
       "      <th>3</th>\n",
       "      <td>1596</td>\n",
       "      <td>2640</td>\n",
       "      <td>555</td>\n",
       "      <td>20</td>\n",
       "      <td>17</td>\n",
       "      <td>0</td>\n",
       "      <td>4.756757</td>\n",
       "      <td>28</td>\n",
       "      <td>0</td>\n",
       "      <td>19.821429</td>\n",
       "      <td>551.989150</td>\n",
       "      <td>0.994575</td>\n",
       "      <td>228</td>\n",
       "      <td>0.410811</td>\n",
       "      <td>107</td>\n",
       "      <td>0.192793</td>\n",
       "      <td>632</td>\n",
       "      <td>605</td>\n",
       "    </tr>\n",
       "    <tr>\n",
       "      <th>4</th>\n",
       "      <td>846</td>\n",
       "      <td>2844</td>\n",
       "      <td>596</td>\n",
       "      <td>33</td>\n",
       "      <td>4</td>\n",
       "      <td>1</td>\n",
       "      <td>4.771812</td>\n",
       "      <td>24</td>\n",
       "      <td>9</td>\n",
       "      <td>24.833333</td>\n",
       "      <td>593.658810</td>\n",
       "      <td>0.996072</td>\n",
       "      <td>279</td>\n",
       "      <td>0.468121</td>\n",
       "      <td>138</td>\n",
       "      <td>0.231544</td>\n",
       "      <td>626</td>\n",
       "      <td>607</td>\n",
       "    </tr>\n",
       "    <tr>\n",
       "      <th>...</th>\n",
       "      <td>...</td>\n",
       "      <td>...</td>\n",
       "      <td>...</td>\n",
       "      <td>...</td>\n",
       "      <td>...</td>\n",
       "      <td>...</td>\n",
       "      <td>...</td>\n",
       "      <td>...</td>\n",
       "      <td>...</td>\n",
       "      <td>...</td>\n",
       "      <td>...</td>\n",
       "      <td>...</td>\n",
       "      <td>...</td>\n",
       "      <td>...</td>\n",
       "      <td>...</td>\n",
       "      <td>...</td>\n",
       "      <td>...</td>\n",
       "      <td>...</td>\n",
       "    </tr>\n",
       "    <tr>\n",
       "      <th>194</th>\n",
       "      <td>1226</td>\n",
       "      <td>1208</td>\n",
       "      <td>242</td>\n",
       "      <td>8</td>\n",
       "      <td>8</td>\n",
       "      <td>0</td>\n",
       "      <td>4.991736</td>\n",
       "      <td>13</td>\n",
       "      <td>0</td>\n",
       "      <td>18.615385</td>\n",
       "      <td>237.327684</td>\n",
       "      <td>0.980693</td>\n",
       "      <td>135</td>\n",
       "      <td>0.557851</td>\n",
       "      <td>58</td>\n",
       "      <td>0.239669</td>\n",
       "      <td>244</td>\n",
       "      <td>242</td>\n",
       "    </tr>\n",
       "    <tr>\n",
       "      <th>195</th>\n",
       "      <td>862</td>\n",
       "      <td>4039</td>\n",
       "      <td>817</td>\n",
       "      <td>24</td>\n",
       "      <td>11</td>\n",
       "      <td>1</td>\n",
       "      <td>4.943696</td>\n",
       "      <td>47</td>\n",
       "      <td>2</td>\n",
       "      <td>17.382979</td>\n",
       "      <td>812.656033</td>\n",
       "      <td>0.994683</td>\n",
       "      <td>386</td>\n",
       "      <td>0.472460</td>\n",
       "      <td>210</td>\n",
       "      <td>0.257038</td>\n",
       "      <td>750</td>\n",
       "      <td>750</td>\n",
       "    </tr>\n",
       "    <tr>\n",
       "      <th>196</th>\n",
       "      <td>1562</td>\n",
       "      <td>2448</td>\n",
       "      <td>468</td>\n",
       "      <td>22</td>\n",
       "      <td>7</td>\n",
       "      <td>0</td>\n",
       "      <td>5.230769</td>\n",
       "      <td>22</td>\n",
       "      <td>0</td>\n",
       "      <td>21.272727</td>\n",
       "      <td>465.656652</td>\n",
       "      <td>0.994993</td>\n",
       "      <td>224</td>\n",
       "      <td>0.478632</td>\n",
       "      <td>101</td>\n",
       "      <td>0.215812</td>\n",
       "      <td>540</td>\n",
       "      <td>526</td>\n",
       "    </tr>\n",
       "    <tr>\n",
       "      <th>197</th>\n",
       "      <td>1336</td>\n",
       "      <td>1081</td>\n",
       "      <td>214</td>\n",
       "      <td>14</td>\n",
       "      <td>5</td>\n",
       "      <td>0</td>\n",
       "      <td>5.051402</td>\n",
       "      <td>11</td>\n",
       "      <td>0</td>\n",
       "      <td>19.454545</td>\n",
       "      <td>212.990566</td>\n",
       "      <td>0.995283</td>\n",
       "      <td>114</td>\n",
       "      <td>0.532710</td>\n",
       "      <td>63</td>\n",
       "      <td>0.294393</td>\n",
       "      <td>259</td>\n",
       "      <td>256</td>\n",
       "    </tr>\n",
       "    <tr>\n",
       "      <th>198</th>\n",
       "      <td>1171</td>\n",
       "      <td>2094</td>\n",
       "      <td>433</td>\n",
       "      <td>11</td>\n",
       "      <td>12</td>\n",
       "      <td>0</td>\n",
       "      <td>4.836028</td>\n",
       "      <td>19</td>\n",
       "      <td>0</td>\n",
       "      <td>22.789474</td>\n",
       "      <td>426.651090</td>\n",
       "      <td>0.985337</td>\n",
       "      <td>221</td>\n",
       "      <td>0.510393</td>\n",
       "      <td>121</td>\n",
       "      <td>0.279446</td>\n",
       "      <td>501</td>\n",
       "      <td>478</td>\n",
       "    </tr>\n",
       "  </tbody>\n",
       "</table>\n",
       "<p>199 rows × 18 columns</p>\n",
       "</div>"
      ],
      "text/plain": [
       "     essayid  chars  words  commas  apostrophes  punctuations  \\\n",
       "0       1623   4332    900      28           13             0   \n",
       "1       1143   1465    280      11            3             1   \n",
       "2        660   1696    325      17            2             0   \n",
       "3       1596   2640    555      20           17             0   \n",
       "4        846   2844    596      33            4             1   \n",
       "..       ...    ...    ...     ...          ...           ...   \n",
       "194     1226   1208    242       8            8             0   \n",
       "195      862   4039    817      24           11             1   \n",
       "196     1562   2448    468      22            7             0   \n",
       "197     1336   1081    214      14            5             0   \n",
       "198     1171   2094    433      11           12             0   \n",
       "\n",
       "     avg_word_length  sentences  questions  avg_word_sentence         POS  \\\n",
       "0           4.813333         39          1          23.076923  893.988852   \n",
       "1           5.232143         14          3          20.000000  278.321343   \n",
       "2           5.218462         19          1          17.105263  321.316770   \n",
       "3           4.756757         28          0          19.821429  551.989150   \n",
       "4           4.771812         24          9          24.833333  593.658810   \n",
       "..               ...        ...        ...                ...         ...   \n",
       "194         4.991736         13          0          18.615385  237.327684   \n",
       "195         4.943696         47          2          17.382979  812.656033   \n",
       "196         5.230769         22          0          21.272727  465.656652   \n",
       "197         5.051402         11          0          19.454545  212.990566   \n",
       "198         4.836028         19          0          22.789474  426.651090   \n",
       "\n",
       "     POS/total_words  prompt_words  prompt_words/total_words  synonym_words  \\\n",
       "0           0.993321           392                  0.435556            196   \n",
       "1           0.994005           131                  0.467857             51   \n",
       "2           0.988667           178                  0.547692             92   \n",
       "3           0.994575           228                  0.410811            107   \n",
       "4           0.996072           279                  0.468121            138   \n",
       "..               ...           ...                       ...            ...   \n",
       "194         0.980693           135                  0.557851             58   \n",
       "195         0.994683           386                  0.472460            210   \n",
       "196         0.994993           224                  0.478632            101   \n",
       "197         0.995283           114                  0.532710             63   \n",
       "198         0.985337           221                  0.510393            121   \n",
       "\n",
       "     synonym_words/total_words  unstemmed  stemmed  \n",
       "0                     0.217778        750      750  \n",
       "1                     0.182143        339      316  \n",
       "2                     0.283077        352      337  \n",
       "3                     0.192793        632      605  \n",
       "4                     0.231544        626      607  \n",
       "..                         ...        ...      ...  \n",
       "194                   0.239669        244      242  \n",
       "195                   0.257038        750      750  \n",
       "196                   0.215812        540      526  \n",
       "197                   0.294393        259      256  \n",
       "198                   0.279446        501      478  \n",
       "\n",
       "[199 rows x 18 columns]"
      ]
     },
     "execution_count": 25,
     "metadata": {},
     "output_type": "execute_result"
    }
   ],
   "source": [
    "kaggle_data"
   ]
  },
  {
   "cell_type": "markdown",
   "metadata": {},
   "source": [
    "### &emsp; Preprocessing"
   ]
  },
  {
   "cell_type": "markdown",
   "metadata": {},
   "source": [
    "Since we selected specific features when training the SVM model we need to do the same here, i.e. we need to extract the values from the same columns that were used for training the model."
   ]
  },
  {
   "cell_type": "code",
   "execution_count": 26,
   "metadata": {},
   "outputs": [],
   "source": [
    "# specify the column headers of the features we want to keep\n",
    "selected_cols = ['unstemmed', 'stemmed', 'chars', 'POS', 'words', 'prompt_words', 'synonym_words', 'commas']\n",
    "# extract the values only from the selected columns\n",
    "selected_features = kaggle_data[selected_cols].values"
   ]
  },
  {
   "cell_type": "markdown",
   "metadata": {},
   "source": [
    "Scale the data using the same scaler (MinMaxScaler()) that was used to train the model"
   ]
  },
  {
   "cell_type": "code",
   "execution_count": 27,
   "metadata": {},
   "outputs": [],
   "source": [
    "# scale the data with the same scaler used for the training and test set\n",
    "X_kaggle = scaler.transform(selected_features)"
   ]
  },
  {
   "cell_type": "markdown",
   "metadata": {},
   "source": [
    "### &emsp; Predicting"
   ]
  },
  {
   "cell_type": "markdown",
   "metadata": {},
   "source": [
    "Make the predictions using the SVM model and display these predictions"
   ]
  },
  {
   "cell_type": "code",
   "execution_count": 28,
   "metadata": {},
   "outputs": [],
   "source": [
    "kaggle_predictions = opt_svm.predict(X_kaggle)"
   ]
  },
  {
   "cell_type": "code",
   "execution_count": 29,
   "metadata": {},
   "outputs": [
    {
     "data": {
      "text/plain": [
       "array([4, 3, 4, 4, 4, 4, 3, 3, 3, 3, 3, 4, 4, 3, 4, 4, 4, 4, 3, 3, 4, 3,\n",
       "       3, 4, 4, 4, 4, 4, 4, 3, 3, 4, 3, 3, 4, 3, 4, 4, 3, 3, 3, 3, 3, 3,\n",
       "       2, 3, 3, 4, 3, 3, 3, 4, 4, 4, 3, 4, 3, 3, 4, 4, 2, 3, 3, 3, 3, 4,\n",
       "       4, 4, 3, 4, 3, 3, 4, 3, 3, 3, 3, 3, 4, 4, 4, 3, 4, 3, 4, 3, 4, 4,\n",
       "       2, 3, 3, 3, 4, 3, 4, 4, 4, 4, 4, 3, 4, 5, 2, 3, 3, 4, 3, 3, 4, 4,\n",
       "       3, 3, 4, 4, 4, 3, 3, 4, 2, 3, 4, 3, 4, 3, 3, 4, 3, 4, 3, 2, 4, 4,\n",
       "       2, 3, 4, 3, 3, 4, 1, 3, 4, 4, 4, 3, 3, 4, 4, 3, 4, 4, 4, 3, 4, 3,\n",
       "       4, 3, 3, 3, 4, 4, 4, 3, 2, 3, 4, 3, 3, 3, 2, 4, 3, 4, 4, 3, 4, 4,\n",
       "       4, 3, 3, 5, 4, 3, 4, 4, 4, 4, 3, 3, 4, 3, 3, 4, 4, 3, 3, 4, 4, 3,\n",
       "       3], dtype=int64)"
      ]
     },
     "execution_count": 29,
     "metadata": {},
     "output_type": "execute_result"
    }
   ],
   "source": [
    "kaggle_predictions"
   ]
  },
  {
   "cell_type": "markdown",
   "metadata": {},
   "source": [
    "### &emsp;Output to CSV file"
   ]
  },
  {
   "cell_type": "markdown",
   "metadata": {},
   "source": [
    "To write the results to a csv file, we must first create a DataFrame with the appropriate format:\n",
    "- Columns (2 columns):\n",
    "    - *essayid*: the unique id for that essay\n",
    "    - *score*: the score for that essay\n",
    "- 200 lines:\n",
    "    - 1 header containing the column names\n",
    "    - 199 entries of essay-score pairs\n",
    "    \n",
    "To do this we can extract the essay ids from the *kaggle_data* DataFrame, and append a new column *score* filled with the model's predictions for each essay."
   ]
  },
  {
   "cell_type": "code",
   "execution_count": 30,
   "metadata": {},
   "outputs": [
    {
     "data": {
      "text/html": [
       "<div>\n",
       "<style scoped>\n",
       "    .dataframe tbody tr th:only-of-type {\n",
       "        vertical-align: middle;\n",
       "    }\n",
       "\n",
       "    .dataframe tbody tr th {\n",
       "        vertical-align: top;\n",
       "    }\n",
       "\n",
       "    .dataframe thead th {\n",
       "        text-align: right;\n",
       "    }\n",
       "</style>\n",
       "<table border=\"1\" class=\"dataframe\">\n",
       "  <thead>\n",
       "    <tr style=\"text-align: right;\">\n",
       "      <th></th>\n",
       "      <th>essayid</th>\n",
       "      <th>score</th>\n",
       "    </tr>\n",
       "  </thead>\n",
       "  <tbody>\n",
       "    <tr>\n",
       "      <th>0</th>\n",
       "      <td>1623</td>\n",
       "      <td>4</td>\n",
       "    </tr>\n",
       "    <tr>\n",
       "      <th>1</th>\n",
       "      <td>1143</td>\n",
       "      <td>3</td>\n",
       "    </tr>\n",
       "    <tr>\n",
       "      <th>2</th>\n",
       "      <td>660</td>\n",
       "      <td>4</td>\n",
       "    </tr>\n",
       "    <tr>\n",
       "      <th>3</th>\n",
       "      <td>1596</td>\n",
       "      <td>4</td>\n",
       "    </tr>\n",
       "    <tr>\n",
       "      <th>4</th>\n",
       "      <td>846</td>\n",
       "      <td>4</td>\n",
       "    </tr>\n",
       "    <tr>\n",
       "      <th>...</th>\n",
       "      <td>...</td>\n",
       "      <td>...</td>\n",
       "    </tr>\n",
       "    <tr>\n",
       "      <th>194</th>\n",
       "      <td>1226</td>\n",
       "      <td>3</td>\n",
       "    </tr>\n",
       "    <tr>\n",
       "      <th>195</th>\n",
       "      <td>862</td>\n",
       "      <td>4</td>\n",
       "    </tr>\n",
       "    <tr>\n",
       "      <th>196</th>\n",
       "      <td>1562</td>\n",
       "      <td>4</td>\n",
       "    </tr>\n",
       "    <tr>\n",
       "      <th>197</th>\n",
       "      <td>1336</td>\n",
       "      <td>3</td>\n",
       "    </tr>\n",
       "    <tr>\n",
       "      <th>198</th>\n",
       "      <td>1171</td>\n",
       "      <td>3</td>\n",
       "    </tr>\n",
       "  </tbody>\n",
       "</table>\n",
       "<p>199 rows × 2 columns</p>\n",
       "</div>"
      ],
      "text/plain": [
       "     essayid  score\n",
       "0       1623      4\n",
       "1       1143      3\n",
       "2        660      4\n",
       "3       1596      4\n",
       "4        846      4\n",
       "..       ...    ...\n",
       "194     1226      3\n",
       "195      862      4\n",
       "196     1562      4\n",
       "197     1336      3\n",
       "198     1171      3\n",
       "\n",
       "[199 rows x 2 columns]"
      ]
     },
     "execution_count": 30,
     "metadata": {},
     "output_type": "execute_result"
    }
   ],
   "source": [
    "# extract the essayid column from kaggle_data\n",
    "df_predictions = kaggle_data[\"essayid\"]\n",
    "# convert the Series to a DataFrame\n",
    "df_predictions = df_predictions.to_frame()\n",
    "# create new column score and fill it with the model's predictions\n",
    "df_predictions[\"score\"] = pd.Series(kaggle_predictions)\n",
    "\n",
    "# display the DataFrame\n",
    "df_predictions"
   ]
  },
  {
   "cell_type": "markdown",
   "metadata": {},
   "source": [
    "Now we can write this resulting DataFrame to a csv file by using the *.to_csv()* function"
   ]
  },
  {
   "cell_type": "code",
   "execution_count": 31,
   "metadata": {},
   "outputs": [],
   "source": [
    "# If you want to run the following line of code, uncomment the line and change the path to a valid location in your computer\n",
    "# df_predictions.to_csv(r'C:\\Users\\Lenovo\\Documents\\Monash_Programming\\Sem 1 2021\\FIT1043\\Assignment_2\\Predictions_With_SVM.csv', index=False)"
   ]
  },
  {
   "cell_type": "markdown",
   "metadata": {},
   "source": [
    "## &emsp;Using a Random Forest Classifer"
   ]
  },
  {
   "cell_type": "markdown",
   "metadata": {},
   "source": [
    "Unlike the SVM, the random forest classifier performs better when provided with all the features therefore we are not going to do feature selection here except for excluding the *essayid* column which simply provides the unique id of the essay and is not an indication of the essay's contents or quality thus it has no bearing on the score of the essays."
   ]
  },
  {
   "cell_type": "code",
   "execution_count": 32,
   "metadata": {},
   "outputs": [],
   "source": [
    "all_features = essay_data.iloc[:, 1:-1].values"
   ]
  },
  {
   "cell_type": "markdown",
   "metadata": {},
   "source": [
    "### &emsp;Oversampling"
   ]
  },
  {
   "cell_type": "markdown",
   "metadata": {},
   "source": [
    "An interesting thing to note about the data is that there is a large imbalance between the frequency of the scores. The majority of essays are scored either a 3 or a 4. We can see this by using the *Counter* class from the *collections* library which counts the number of essays for each score."
   ]
  },
  {
   "cell_type": "code",
   "execution_count": 33,
   "metadata": {},
   "outputs": [
    {
     "data": {
      "text/plain": [
       "Counter({4: 583, 3: 557, 2: 110, 1: 18, 5: 60, 6: 4})"
      ]
     },
     "execution_count": 33,
     "metadata": {},
     "output_type": "execute_result"
    }
   ],
   "source": [
    "Counter(label)"
   ]
  },
  {
   "cell_type": "markdown",
   "metadata": {},
   "source": [
    "From this we can see that there are 583 essays that scored a 4 which makes up **43.8%** of the total essays whereas there are only 4 essays with a score of 6, this amounts to **0.45%** of total essays. This means that we are dealing with an imbalanced classification problem which is a classification problem in which the distribution of examples across the classes is skewed. This results in models having difficulty predicting these minority classes thus resulting in poorer performance overall.\n",
    "\n",
    "To combat this we can oversample these minority classes by using the Syntethic Minority Oversampling Technique which synthesizes new examples for these minority classes from existing ones. For this, we can use the *SMOTE* class from the *imblearn.over_sampling* module and resample the dataset from the original dataset."
   ]
  },
  {
   "cell_type": "code",
   "execution_count": 34,
   "metadata": {},
   "outputs": [],
   "source": [
    "# k_neighbors is the number of nearest neighbours to construct syntethic samples\n",
    "# set random_state to an integer so that output is reproducible\n",
    "oversample = SMOTE(k_neighbors = 1, random_state = 209476)\n",
    "\n",
    "# resample the dataset\n",
    "features_over, label_over = oversample.fit_resample(all_features, label)"
   ]
  },
  {
   "cell_type": "markdown",
   "metadata": {},
   "source": [
    "Split the oversampled dataset into the training and test set with the ratio 80:20"
   ]
  },
  {
   "cell_type": "code",
   "execution_count": 35,
   "metadata": {},
   "outputs": [],
   "source": [
    "# test_size parameter determines the proportion of the test set overt the entire dataset\n",
    "# an integer is passed in random_state to ensure reproducible output\n",
    "X_train, X_test, y_train, y_test = train_test_split(features_over, label_over, test_size=0.2, random_state=42)"
   ]
  },
  {
   "cell_type": "markdown",
   "metadata": {},
   "source": [
    "Scale the feature values using the *StandardScaler()* function from the *sklearn.preprocessing* module"
   ]
  },
  {
   "cell_type": "code",
   "execution_count": 36,
   "metadata": {},
   "outputs": [],
   "source": [
    "# define the scaler as the StandardScaler()\n",
    "scaler = StandardScaler()\n",
    "\n",
    "# fit the scaler to the training data which computes the mean and standard deviation of every feature in X_train\n",
    "# then we transform X_train to scale the data according to the computed mean and standard deviation\n",
    "X_train = scaler.fit_transform(X_train)\n",
    "# Here we transform X_test using the mean and standard deviation of the corresponding features in X_train\n",
    "X_test = scaler.transform(X_test)"
   ]
  },
  {
   "cell_type": "markdown",
   "metadata": {},
   "source": [
    "### &emsp; Random Forest Classifier"
   ]
  },
  {
   "cell_type": "markdown",
   "metadata": {},
   "source": [
    "Create the random forest classifier and use GridSearchCV to search for the best parameters for this model based on the training set. Here the most important parameters are:\n",
    "- n_estimators: the number of trees to use\n",
    "- max_depth: the maximum depth of the tree\n",
    "\n",
    "The following block of code should only take ~5-15 seconds"
   ]
  },
  {
   "cell_type": "code",
   "execution_count": 37,
   "metadata": {},
   "outputs": [
    {
     "name": "stdout",
     "output_type": "stream",
     "text": [
      "Fitting 5 folds for each of 16 candidates, totalling 80 fits\n",
      "[CV 1/5; 1/16] START max_depth=2, n_estimators=5................................\n",
      "[CV 1/5; 1/16] END ..............max_depth=2, n_estimators=5; total time=   0.0s\n",
      "[CV 2/5; 1/16] START max_depth=2, n_estimators=5................................\n",
      "[CV 2/5; 1/16] END ..............max_depth=2, n_estimators=5; total time=   0.0s\n",
      "[CV 3/5; 1/16] START max_depth=2, n_estimators=5................................\n",
      "[CV 3/5; 1/16] END ..............max_depth=2, n_estimators=5; total time=   0.0s\n",
      "[CV 4/5; 1/16] START max_depth=2, n_estimators=5................................\n",
      "[CV 4/5; 1/16] END ..............max_depth=2, n_estimators=5; total time=   0.0s\n",
      "[CV 5/5; 1/16] START max_depth=2, n_estimators=5................................\n",
      "[CV 5/5; 1/16] END ..............max_depth=2, n_estimators=5; total time=   0.0s\n",
      "[CV 1/5; 2/16] START max_depth=2, n_estimators=10...............................\n",
      "[CV 1/5; 2/16] END .............max_depth=2, n_estimators=10; total time=   0.0s\n",
      "[CV 2/5; 2/16] START max_depth=2, n_estimators=10...............................\n",
      "[CV 2/5; 2/16] END .............max_depth=2, n_estimators=10; total time=   0.0s\n",
      "[CV 3/5; 2/16] START max_depth=2, n_estimators=10...............................\n",
      "[CV 3/5; 2/16] END .............max_depth=2, n_estimators=10; total time=   0.0s\n",
      "[CV 4/5; 2/16] START max_depth=2, n_estimators=10...............................\n",
      "[CV 4/5; 2/16] END .............max_depth=2, n_estimators=10; total time=   0.0s\n",
      "[CV 5/5; 2/16] START max_depth=2, n_estimators=10...............................\n",
      "[CV 5/5; 2/16] END .............max_depth=2, n_estimators=10; total time=   0.0s\n",
      "[CV 1/5; 3/16] START max_depth=2, n_estimators=15...............................\n",
      "[CV 1/5; 3/16] END .............max_depth=2, n_estimators=15; total time=   0.0s\n",
      "[CV 2/5; 3/16] START max_depth=2, n_estimators=15...............................\n",
      "[CV 2/5; 3/16] END .............max_depth=2, n_estimators=15; total time=   0.0s\n",
      "[CV 3/5; 3/16] START max_depth=2, n_estimators=15...............................\n",
      "[CV 3/5; 3/16] END .............max_depth=2, n_estimators=15; total time=   0.0s\n",
      "[CV 4/5; 3/16] START max_depth=2, n_estimators=15...............................\n",
      "[CV 4/5; 3/16] END .............max_depth=2, n_estimators=15; total time=   0.0s\n",
      "[CV 5/5; 3/16] START max_depth=2, n_estimators=15...............................\n",
      "[CV 5/5; 3/16] END .............max_depth=2, n_estimators=15; total time=   0.0s\n",
      "[CV 1/5; 4/16] START max_depth=2, n_estimators=20...............................\n",
      "[CV 1/5; 4/16] END .............max_depth=2, n_estimators=20; total time=   0.0s\n",
      "[CV 2/5; 4/16] START max_depth=2, n_estimators=20...............................\n",
      "[CV 2/5; 4/16] END .............max_depth=2, n_estimators=20; total time=   0.0s\n",
      "[CV 3/5; 4/16] START max_depth=2, n_estimators=20...............................\n",
      "[CV 3/5; 4/16] END .............max_depth=2, n_estimators=20; total time=   0.0s\n",
      "[CV 4/5; 4/16] START max_depth=2, n_estimators=20...............................\n",
      "[CV 4/5; 4/16] END .............max_depth=2, n_estimators=20; total time=   0.0s\n",
      "[CV 5/5; 4/16] START max_depth=2, n_estimators=20...............................\n",
      "[CV 5/5; 4/16] END .............max_depth=2, n_estimators=20; total time=   0.0s\n",
      "[CV 1/5; 5/16] START max_depth=5, n_estimators=5................................\n",
      "[CV 1/5; 5/16] END ..............max_depth=5, n_estimators=5; total time=   0.0s\n",
      "[CV 2/5; 5/16] START max_depth=5, n_estimators=5................................\n",
      "[CV 2/5; 5/16] END ..............max_depth=5, n_estimators=5; total time=   0.0s\n",
      "[CV 3/5; 5/16] START max_depth=5, n_estimators=5................................\n",
      "[CV 3/5; 5/16] END ..............max_depth=5, n_estimators=5; total time=   0.0s\n",
      "[CV 4/5; 5/16] START max_depth=5, n_estimators=5................................\n",
      "[CV 4/5; 5/16] END ..............max_depth=5, n_estimators=5; total time=   0.0s\n",
      "[CV 5/5; 5/16] START max_depth=5, n_estimators=5................................\n",
      "[CV 5/5; 5/16] END ..............max_depth=5, n_estimators=5; total time=   0.0s\n",
      "[CV 1/5; 6/16] START max_depth=5, n_estimators=10...............................\n",
      "[CV 1/5; 6/16] END .............max_depth=5, n_estimators=10; total time=   0.0s\n",
      "[CV 2/5; 6/16] START max_depth=5, n_estimators=10...............................\n",
      "[CV 2/5; 6/16] END .............max_depth=5, n_estimators=10; total time=   0.0s\n",
      "[CV 3/5; 6/16] START max_depth=5, n_estimators=10...............................\n",
      "[CV 3/5; 6/16] END .............max_depth=5, n_estimators=10; total time=   0.0s\n",
      "[CV 4/5; 6/16] START max_depth=5, n_estimators=10...............................\n",
      "[CV 4/5; 6/16] END .............max_depth=5, n_estimators=10; total time=   0.0s\n",
      "[CV 5/5; 6/16] START max_depth=5, n_estimators=10...............................\n",
      "[CV 5/5; 6/16] END .............max_depth=5, n_estimators=10; total time=   0.0s\n",
      "[CV 1/5; 7/16] START max_depth=5, n_estimators=15...............................\n",
      "[CV 1/5; 7/16] END .............max_depth=5, n_estimators=15; total time=   0.0s\n",
      "[CV 2/5; 7/16] START max_depth=5, n_estimators=15...............................\n",
      "[CV 2/5; 7/16] END .............max_depth=5, n_estimators=15; total time=   0.0s\n",
      "[CV 3/5; 7/16] START max_depth=5, n_estimators=15...............................\n",
      "[CV 3/5; 7/16] END .............max_depth=5, n_estimators=15; total time=   0.0s\n",
      "[CV 4/5; 7/16] START max_depth=5, n_estimators=15...............................\n",
      "[CV 4/5; 7/16] END .............max_depth=5, n_estimators=15; total time=   0.0s\n",
      "[CV 5/5; 7/16] START max_depth=5, n_estimators=15...............................\n",
      "[CV 5/5; 7/16] END .............max_depth=5, n_estimators=15; total time=   0.0s\n",
      "[CV 1/5; 8/16] START max_depth=5, n_estimators=20...............................\n",
      "[CV 1/5; 8/16] END .............max_depth=5, n_estimators=20; total time=   0.0s\n",
      "[CV 2/5; 8/16] START max_depth=5, n_estimators=20...............................\n",
      "[CV 2/5; 8/16] END .............max_depth=5, n_estimators=20; total time=   0.0s\n",
      "[CV 3/5; 8/16] START max_depth=5, n_estimators=20...............................\n",
      "[CV 3/5; 8/16] END .............max_depth=5, n_estimators=20; total time=   0.0s\n",
      "[CV 4/5; 8/16] START max_depth=5, n_estimators=20...............................\n",
      "[CV 4/5; 8/16] END .............max_depth=5, n_estimators=20; total time=   0.0s\n",
      "[CV 5/5; 8/16] START max_depth=5, n_estimators=20...............................\n",
      "[CV 5/5; 8/16] END .............max_depth=5, n_estimators=20; total time=   0.0s\n",
      "[CV 1/5; 9/16] START max_depth=7, n_estimators=5................................\n",
      "[CV 1/5; 9/16] END ..............max_depth=7, n_estimators=5; total time=   0.0s\n",
      "[CV 2/5; 9/16] START max_depth=7, n_estimators=5................................\n",
      "[CV 2/5; 9/16] END ..............max_depth=7, n_estimators=5; total time=   0.0s\n",
      "[CV 3/5; 9/16] START max_depth=7, n_estimators=5................................\n",
      "[CV 3/5; 9/16] END ..............max_depth=7, n_estimators=5; total time=   0.0s\n",
      "[CV 4/5; 9/16] START max_depth=7, n_estimators=5................................\n",
      "[CV 4/5; 9/16] END ..............max_depth=7, n_estimators=5; total time=   0.0s\n",
      "[CV 5/5; 9/16] START max_depth=7, n_estimators=5................................\n",
      "[CV 5/5; 9/16] END ..............max_depth=7, n_estimators=5; total time=   0.0s\n",
      "[CV 1/5; 10/16] START max_depth=7, n_estimators=10..............................\n",
      "[CV 1/5; 10/16] END ............max_depth=7, n_estimators=10; total time=   0.0s\n",
      "[CV 2/5; 10/16] START max_depth=7, n_estimators=10..............................\n",
      "[CV 2/5; 10/16] END ............max_depth=7, n_estimators=10; total time=   0.0s\n",
      "[CV 3/5; 10/16] START max_depth=7, n_estimators=10..............................\n",
      "[CV 3/5; 10/16] END ............max_depth=7, n_estimators=10; total time=   0.0s\n",
      "[CV 4/5; 10/16] START max_depth=7, n_estimators=10..............................\n",
      "[CV 4/5; 10/16] END ............max_depth=7, n_estimators=10; total time=   0.0s\n",
      "[CV 5/5; 10/16] START max_depth=7, n_estimators=10..............................\n",
      "[CV 5/5; 10/16] END ............max_depth=7, n_estimators=10; total time=   0.0s\n",
      "[CV 1/5; 11/16] START max_depth=7, n_estimators=15..............................\n",
      "[CV 1/5; 11/16] END ............max_depth=7, n_estimators=15; total time=   0.0s\n",
      "[CV 2/5; 11/16] START max_depth=7, n_estimators=15..............................\n",
      "[CV 2/5; 11/16] END ............max_depth=7, n_estimators=15; total time=   0.0s\n",
      "[CV 3/5; 11/16] START max_depth=7, n_estimators=15..............................\n"
     ]
    },
    {
     "name": "stdout",
     "output_type": "stream",
     "text": [
      "[CV 3/5; 11/16] END ............max_depth=7, n_estimators=15; total time=   0.0s\n",
      "[CV 4/5; 11/16] START max_depth=7, n_estimators=15..............................\n",
      "[CV 4/5; 11/16] END ............max_depth=7, n_estimators=15; total time=   0.0s\n",
      "[CV 5/5; 11/16] START max_depth=7, n_estimators=15..............................\n",
      "[CV 5/5; 11/16] END ............max_depth=7, n_estimators=15; total time=   0.0s\n",
      "[CV 1/5; 12/16] START max_depth=7, n_estimators=20..............................\n",
      "[CV 1/5; 12/16] END ............max_depth=7, n_estimators=20; total time=   0.0s\n",
      "[CV 2/5; 12/16] START max_depth=7, n_estimators=20..............................\n",
      "[CV 2/5; 12/16] END ............max_depth=7, n_estimators=20; total time=   0.0s\n",
      "[CV 3/5; 12/16] START max_depth=7, n_estimators=20..............................\n",
      "[CV 3/5; 12/16] END ............max_depth=7, n_estimators=20; total time=   0.0s\n",
      "[CV 4/5; 12/16] START max_depth=7, n_estimators=20..............................\n",
      "[CV 4/5; 12/16] END ............max_depth=7, n_estimators=20; total time=   0.0s\n",
      "[CV 5/5; 12/16] START max_depth=7, n_estimators=20..............................\n",
      "[CV 5/5; 12/16] END ............max_depth=7, n_estimators=20; total time=   0.1s\n",
      "[CV 1/5; 13/16] START max_depth=9, n_estimators=5...............................\n",
      "[CV 1/5; 13/16] END .............max_depth=9, n_estimators=5; total time=   0.0s\n",
      "[CV 2/5; 13/16] START max_depth=9, n_estimators=5...............................\n",
      "[CV 2/5; 13/16] END .............max_depth=9, n_estimators=5; total time=   0.0s\n",
      "[CV 3/5; 13/16] START max_depth=9, n_estimators=5...............................\n",
      "[CV 3/5; 13/16] END .............max_depth=9, n_estimators=5; total time=   0.0s\n",
      "[CV 4/5; 13/16] START max_depth=9, n_estimators=5...............................\n",
      "[CV 4/5; 13/16] END .............max_depth=9, n_estimators=5; total time=   0.0s\n",
      "[CV 5/5; 13/16] START max_depth=9, n_estimators=5...............................\n",
      "[CV 5/5; 13/16] END .............max_depth=9, n_estimators=5; total time=   0.0s\n",
      "[CV 1/5; 14/16] START max_depth=9, n_estimators=10..............................\n",
      "[CV 1/5; 14/16] END ............max_depth=9, n_estimators=10; total time=   0.0s\n",
      "[CV 2/5; 14/16] START max_depth=9, n_estimators=10..............................\n",
      "[CV 2/5; 14/16] END ............max_depth=9, n_estimators=10; total time=   0.0s\n",
      "[CV 3/5; 14/16] START max_depth=9, n_estimators=10..............................\n",
      "[CV 3/5; 14/16] END ............max_depth=9, n_estimators=10; total time=   0.0s\n",
      "[CV 4/5; 14/16] START max_depth=9, n_estimators=10..............................\n",
      "[CV 4/5; 14/16] END ............max_depth=9, n_estimators=10; total time=   0.0s\n",
      "[CV 5/5; 14/16] START max_depth=9, n_estimators=10..............................\n",
      "[CV 5/5; 14/16] END ............max_depth=9, n_estimators=10; total time=   0.0s\n",
      "[CV 1/5; 15/16] START max_depth=9, n_estimators=15..............................\n",
      "[CV 1/5; 15/16] END ............max_depth=9, n_estimators=15; total time=   0.0s\n",
      "[CV 2/5; 15/16] START max_depth=9, n_estimators=15..............................\n",
      "[CV 2/5; 15/16] END ............max_depth=9, n_estimators=15; total time=   0.0s\n",
      "[CV 3/5; 15/16] START max_depth=9, n_estimators=15..............................\n",
      "[CV 3/5; 15/16] END ............max_depth=9, n_estimators=15; total time=   0.0s\n",
      "[CV 4/5; 15/16] START max_depth=9, n_estimators=15..............................\n",
      "[CV 4/5; 15/16] END ............max_depth=9, n_estimators=15; total time=   0.0s\n",
      "[CV 5/5; 15/16] START max_depth=9, n_estimators=15..............................\n",
      "[CV 5/5; 15/16] END ............max_depth=9, n_estimators=15; total time=   0.0s\n",
      "[CV 1/5; 16/16] START max_depth=9, n_estimators=20..............................\n",
      "[CV 1/5; 16/16] END ............max_depth=9, n_estimators=20; total time=   0.0s\n",
      "[CV 2/5; 16/16] START max_depth=9, n_estimators=20..............................\n",
      "[CV 2/5; 16/16] END ............max_depth=9, n_estimators=20; total time=   0.0s\n",
      "[CV 3/5; 16/16] START max_depth=9, n_estimators=20..............................\n",
      "[CV 3/5; 16/16] END ............max_depth=9, n_estimators=20; total time=   0.0s\n",
      "[CV 4/5; 16/16] START max_depth=9, n_estimators=20..............................\n",
      "[CV 4/5; 16/16] END ............max_depth=9, n_estimators=20; total time=   0.0s\n",
      "[CV 5/5; 16/16] START max_depth=9, n_estimators=20..............................\n",
      "[CV 5/5; 16/16] END ............max_depth=9, n_estimators=20; total time=   0.0s\n"
     ]
    },
    {
     "data": {
      "text/plain": [
       "GridSearchCV(estimator=RandomForestClassifier(random_state=42),\n",
       "             param_grid={'max_depth': [2, 5, 7, 9],\n",
       "                         'n_estimators': [5, 10, 15, 20]},\n",
       "             verbose=10)"
      ]
     },
     "execution_count": 37,
     "metadata": {},
     "output_type": "execute_result"
    }
   ],
   "source": [
    "# instantiate the RandomForestClassifier\n",
    "# provide an integer for random_state so that the output is reproducible\n",
    "rfc = RandomForestClassifier(random_state = 42)\n",
    "\n",
    "# provide list of possible parameter values\n",
    "parameters={'n_estimators' : [5, 10, 15, 20],\n",
    "            'max_depth' : [2, 5, 7, 9]}\n",
    "\n",
    "# in the first parameter the estimator for which we want to test out the parameter combinations is passed in\n",
    "# In the second parameter, try every combination of parameter values for the provided estimator (rfc)\n",
    "# verbose parameter controls its verbosity, a value of 1 just displays the total number of combinations\n",
    "opt_rfc = GridSearchCV(rfc, parameters, verbose=10)\n",
    "# fit the rfc to the training set and try all the parameter combinations to find the best one\n",
    "opt_rfc.fit(X_train, y_train)"
   ]
  },
  {
   "cell_type": "markdown",
   "metadata": {},
   "source": [
    "After the model has been fitted to the training set and the best parameters have been chosen, we can see which of the parameter values had the best result by accessing the *best_params_* attribute of GridSearchCV"
   ]
  },
  {
   "cell_type": "code",
   "execution_count": 38,
   "metadata": {},
   "outputs": [
    {
     "data": {
      "text/plain": [
       "{'max_depth': 9, 'n_estimators': 20}"
      ]
     },
     "execution_count": 38,
     "metadata": {},
     "output_type": "execute_result"
    }
   ],
   "source": [
    "opt_rfc.best_params_"
   ]
  },
  {
   "cell_type": "markdown",
   "metadata": {},
   "source": [
    "In order to evaluate the performance of the random forest classifier, we must first use it to predict the scores for the essays in the test set by calling the *.predict()* method of the model on *X_test*"
   ]
  },
  {
   "cell_type": "code",
   "execution_count": 39,
   "metadata": {},
   "outputs": [],
   "source": [
    "opt_rfc_predictions = opt_rfc.predict(X_test)"
   ]
  },
  {
   "cell_type": "markdown",
   "metadata": {},
   "source": [
    "Now we can compute and display the confusion matrix to visualize the performance of the model. Note here that totaling the values along a row (which gives the total number of essays with that score) might give a different total than the first confusion matrix, this is the result of the oversampling."
   ]
  },
  {
   "cell_type": "code",
   "execution_count": 40,
   "metadata": {},
   "outputs": [
    {
     "data": {
      "text/plain": [
       "<sklearn.metrics._plot.confusion_matrix.ConfusionMatrixDisplay at 0x236826cfaf0>"
      ]
     },
     "execution_count": 40,
     "metadata": {},
     "output_type": "execute_result"
    },
    {
     "data": {
      "image/png": "[encoded data removed]",
      "text/plain": [
       "<Figure size 432x288 with 2 Axes>"
      ]
     },
     "metadata": {
      "needs_background": "light"
     },
     "output_type": "display_data"
    }
   ],
   "source": [
    "# compute the confusion matrix using the actual scores of the essays in the test set and the model predictions\n",
    "cm = confusion_matrix(y_test, opt_rfc_predictions)\n",
    "# first parameter is the confusion matrix computed\n",
    "# display_labels parameter defines the list of possible labels (from 1 to 6), since essay scores range from 1-6\n",
    "disp = ConfusionMatrixDisplay(cm, display_labels=[1,2,3,4,5,6])\n",
    "\n",
    "# display the confusion matrix\n",
    "disp.plot()"
   ]
  },
  {
   "cell_type": "markdown",
   "metadata": {},
   "source": [
    "We can see that the diagonal (upper-left to bottom-right) is lit up and other squares *not* on the diagonal are dark, this means that most of the model's predictions are correct and therefore the model seems to perform quite well. We can reinforce this notion by displaying the QWK score of the model."
   ]
  },
  {
   "cell_type": "code",
   "execution_count": 41,
   "metadata": {},
   "outputs": [
    {
     "name": "stdout",
     "output_type": "stream",
     "text": [
      "0.9747343352878785\n"
     ]
    }
   ],
   "source": [
    "print(cohen_kappa_score(y_test, opt_rfc_predictions, weights='quadratic'))"
   ]
  },
  {
   "cell_type": "markdown",
   "metadata": {},
   "source": [
    "We can see that this score is a huge improvement over the score we obtained for our SVM (0.713) so we have successfully created a very accurate model."
   ]
  },
  {
   "cell_type": "markdown",
   "metadata": {},
   "source": [
    "### &emsp;Read File and Predict "
   ]
  },
  {
   "cell_type": "markdown",
   "metadata": {},
   "source": [
    "First we need to read the *'FIT1043-Essay-Features-Submission.csv'* file and convert it to a DataFrame by using the *.read_csv()* function from the *pandas* library"
   ]
  },
  {
   "cell_type": "code",
   "execution_count": 42,
   "metadata": {},
   "outputs": [],
   "source": [
    "# read the file, convert it into a DataFrame\n",
    "kaggle_data = pd.read_csv('FIT1043-Essay-Features-Submission.csv')"
   ]
  },
  {
   "cell_type": "markdown",
   "metadata": {},
   "source": [
    "Next we should confirm that the file has been read properly by displaying the DataFrame's shape and comparing it to the original file"
   ]
  },
  {
   "cell_type": "code",
   "execution_count": 43,
   "metadata": {},
   "outputs": [
    {
     "data": {
      "text/plain": [
       "(199, 18)"
      ]
     },
     "execution_count": 43,
     "metadata": {},
     "output_type": "execute_result"
    }
   ],
   "source": [
    "kaggle_data.shape"
   ]
  },
  {
   "cell_type": "markdown",
   "metadata": {},
   "source": [
    "From this we know that the *kaggle_data* DataFrame has 199 rows and 18 columns, and from opening the original csv file we can see that it also has 199 rows (excluding the first row which is used as a header in the DataFrame and is thus not counted as a row) and 18 columns."
   ]
  },
  {
   "cell_type": "markdown",
   "metadata": {},
   "source": [
    "Next we can glimpse at the contents of the DataFrame by displaying the first and last 5 rows"
   ]
  },
  {
   "cell_type": "code",
   "execution_count": 44,
   "metadata": {},
   "outputs": [
    {
     "data": {
      "text/html": [
       "<div>\n",
       "<style scoped>\n",
       "    .dataframe tbody tr th:only-of-type {\n",
       "        vertical-align: middle;\n",
       "    }\n",
       "\n",
       "    .dataframe tbody tr th {\n",
       "        vertical-align: top;\n",
       "    }\n",
       "\n",
       "    .dataframe thead th {\n",
       "        text-align: right;\n",
       "    }\n",
       "</style>\n",
       "<table border=\"1\" class=\"dataframe\">\n",
       "  <thead>\n",
       "    <tr style=\"text-align: right;\">\n",
       "      <th></th>\n",
       "      <th>essayid</th>\n",
       "      <th>chars</th>\n",
       "      <th>words</th>\n",
       "      <th>commas</th>\n",
       "      <th>apostrophes</th>\n",
       "      <th>punctuations</th>\n",
       "      <th>avg_word_length</th>\n",
       "      <th>sentences</th>\n",
       "      <th>questions</th>\n",
       "      <th>avg_word_sentence</th>\n",
       "      <th>POS</th>\n",
       "      <th>POS/total_words</th>\n",
       "      <th>prompt_words</th>\n",
       "      <th>prompt_words/total_words</th>\n",
       "      <th>synonym_words</th>\n",
       "      <th>synonym_words/total_words</th>\n",
       "      <th>unstemmed</th>\n",
       "      <th>stemmed</th>\n",
       "    </tr>\n",
       "  </thead>\n",
       "  <tbody>\n",
       "    <tr>\n",
       "      <th>0</th>\n",
       "      <td>1623</td>\n",
       "      <td>4332</td>\n",
       "      <td>900</td>\n",
       "      <td>28</td>\n",
       "      <td>13</td>\n",
       "      <td>0</td>\n",
       "      <td>4.813333</td>\n",
       "      <td>39</td>\n",
       "      <td>1</td>\n",
       "      <td>23.076923</td>\n",
       "      <td>893.988852</td>\n",
       "      <td>0.993321</td>\n",
       "      <td>392</td>\n",
       "      <td>0.435556</td>\n",
       "      <td>196</td>\n",
       "      <td>0.217778</td>\n",
       "      <td>750</td>\n",
       "      <td>750</td>\n",
       "    </tr>\n",
       "    <tr>\n",
       "      <th>1</th>\n",
       "      <td>1143</td>\n",
       "      <td>1465</td>\n",
       "      <td>280</td>\n",
       "      <td>11</td>\n",
       "      <td>3</td>\n",
       "      <td>1</td>\n",
       "      <td>5.232143</td>\n",
       "      <td>14</td>\n",
       "      <td>3</td>\n",
       "      <td>20.000000</td>\n",
       "      <td>278.321343</td>\n",
       "      <td>0.994005</td>\n",
       "      <td>131</td>\n",
       "      <td>0.467857</td>\n",
       "      <td>51</td>\n",
       "      <td>0.182143</td>\n",
       "      <td>339</td>\n",
       "      <td>316</td>\n",
       "    </tr>\n",
       "    <tr>\n",
       "      <th>2</th>\n",
       "      <td>660</td>\n",
       "      <td>1696</td>\n",
       "      <td>325</td>\n",
       "      <td>17</td>\n",
       "      <td>2</td>\n",
       "      <td>0</td>\n",
       "      <td>5.218462</td>\n",
       "      <td>19</td>\n",
       "      <td>1</td>\n",
       "      <td>17.105263</td>\n",
       "      <td>321.316770</td>\n",
       "      <td>0.988667</td>\n",
       "      <td>178</td>\n",
       "      <td>0.547692</td>\n",
       "      <td>92</td>\n",
       "      <td>0.283077</td>\n",
       "      <td>352</td>\n",
       "      <td>337</td>\n",
       "    </tr>\n",
       "    <tr>\n",
       "      <th>3</th>\n",
       "      <td>1596</td>\n",
       "      <td>2640</td>\n",
       "      <td>555</td>\n",
       "      <td>20</td>\n",
       "      <td>17</td>\n",
       "      <td>0</td>\n",
       "      <td>4.756757</td>\n",
       "      <td>28</td>\n",
       "      <td>0</td>\n",
       "      <td>19.821429</td>\n",
       "      <td>551.989150</td>\n",
       "      <td>0.994575</td>\n",
       "      <td>228</td>\n",
       "      <td>0.410811</td>\n",
       "      <td>107</td>\n",
       "      <td>0.192793</td>\n",
       "      <td>632</td>\n",
       "      <td>605</td>\n",
       "    </tr>\n",
       "    <tr>\n",
       "      <th>4</th>\n",
       "      <td>846</td>\n",
       "      <td>2844</td>\n",
       "      <td>596</td>\n",
       "      <td>33</td>\n",
       "      <td>4</td>\n",
       "      <td>1</td>\n",
       "      <td>4.771812</td>\n",
       "      <td>24</td>\n",
       "      <td>9</td>\n",
       "      <td>24.833333</td>\n",
       "      <td>593.658810</td>\n",
       "      <td>0.996072</td>\n",
       "      <td>279</td>\n",
       "      <td>0.468121</td>\n",
       "      <td>138</td>\n",
       "      <td>0.231544</td>\n",
       "      <td>626</td>\n",
       "      <td>607</td>\n",
       "    </tr>\n",
       "  </tbody>\n",
       "</table>\n",
       "</div>"
      ],
      "text/plain": [
       "   essayid  chars  words  commas  apostrophes  punctuations  avg_word_length  \\\n",
       "0     1623   4332    900      28           13             0         4.813333   \n",
       "1     1143   1465    280      11            3             1         5.232143   \n",
       "2      660   1696    325      17            2             0         5.218462   \n",
       "3     1596   2640    555      20           17             0         4.756757   \n",
       "4      846   2844    596      33            4             1         4.771812   \n",
       "\n",
       "   sentences  questions  avg_word_sentence         POS  POS/total_words  \\\n",
       "0         39          1          23.076923  893.988852         0.993321   \n",
       "1         14          3          20.000000  278.321343         0.994005   \n",
       "2         19          1          17.105263  321.316770         0.988667   \n",
       "3         28          0          19.821429  551.989150         0.994575   \n",
       "4         24          9          24.833333  593.658810         0.996072   \n",
       "\n",
       "   prompt_words  prompt_words/total_words  synonym_words  \\\n",
       "0           392                  0.435556            196   \n",
       "1           131                  0.467857             51   \n",
       "2           178                  0.547692             92   \n",
       "3           228                  0.410811            107   \n",
       "4           279                  0.468121            138   \n",
       "\n",
       "   synonym_words/total_words  unstemmed  stemmed  \n",
       "0                   0.217778        750      750  \n",
       "1                   0.182143        339      316  \n",
       "2                   0.283077        352      337  \n",
       "3                   0.192793        632      605  \n",
       "4                   0.231544        626      607  "
      ]
     },
     "execution_count": 44,
     "metadata": {},
     "output_type": "execute_result"
    }
   ],
   "source": [
    "kaggle_data.head()"
   ]
  },
  {
   "cell_type": "code",
   "execution_count": 45,
   "metadata": {},
   "outputs": [
    {
     "data": {
      "text/html": [
       "<div>\n",
       "<style scoped>\n",
       "    .dataframe tbody tr th:only-of-type {\n",
       "        vertical-align: middle;\n",
       "    }\n",
       "\n",
       "    .dataframe tbody tr th {\n",
       "        vertical-align: top;\n",
       "    }\n",
       "\n",
       "    .dataframe thead th {\n",
       "        text-align: right;\n",
       "    }\n",
       "</style>\n",
       "<table border=\"1\" class=\"dataframe\">\n",
       "  <thead>\n",
       "    <tr style=\"text-align: right;\">\n",
       "      <th></th>\n",
       "      <th>essayid</th>\n",
       "      <th>chars</th>\n",
       "      <th>words</th>\n",
       "      <th>commas</th>\n",
       "      <th>apostrophes</th>\n",
       "      <th>punctuations</th>\n",
       "      <th>avg_word_length</th>\n",
       "      <th>sentences</th>\n",
       "      <th>questions</th>\n",
       "      <th>avg_word_sentence</th>\n",
       "      <th>POS</th>\n",
       "      <th>POS/total_words</th>\n",
       "      <th>prompt_words</th>\n",
       "      <th>prompt_words/total_words</th>\n",
       "      <th>synonym_words</th>\n",
       "      <th>synonym_words/total_words</th>\n",
       "      <th>unstemmed</th>\n",
       "      <th>stemmed</th>\n",
       "    </tr>\n",
       "  </thead>\n",
       "  <tbody>\n",
       "    <tr>\n",
       "      <th>194</th>\n",
       "      <td>1226</td>\n",
       "      <td>1208</td>\n",
       "      <td>242</td>\n",
       "      <td>8</td>\n",
       "      <td>8</td>\n",
       "      <td>0</td>\n",
       "      <td>4.991736</td>\n",
       "      <td>13</td>\n",
       "      <td>0</td>\n",
       "      <td>18.615385</td>\n",
       "      <td>237.327684</td>\n",
       "      <td>0.980693</td>\n",
       "      <td>135</td>\n",
       "      <td>0.557851</td>\n",
       "      <td>58</td>\n",
       "      <td>0.239669</td>\n",
       "      <td>244</td>\n",
       "      <td>242</td>\n",
       "    </tr>\n",
       "    <tr>\n",
       "      <th>195</th>\n",
       "      <td>862</td>\n",
       "      <td>4039</td>\n",
       "      <td>817</td>\n",
       "      <td>24</td>\n",
       "      <td>11</td>\n",
       "      <td>1</td>\n",
       "      <td>4.943696</td>\n",
       "      <td>47</td>\n",
       "      <td>2</td>\n",
       "      <td>17.382979</td>\n",
       "      <td>812.656033</td>\n",
       "      <td>0.994683</td>\n",
       "      <td>386</td>\n",
       "      <td>0.472460</td>\n",
       "      <td>210</td>\n",
       "      <td>0.257038</td>\n",
       "      <td>750</td>\n",
       "      <td>750</td>\n",
       "    </tr>\n",
       "    <tr>\n",
       "      <th>196</th>\n",
       "      <td>1562</td>\n",
       "      <td>2448</td>\n",
       "      <td>468</td>\n",
       "      <td>22</td>\n",
       "      <td>7</td>\n",
       "      <td>0</td>\n",
       "      <td>5.230769</td>\n",
       "      <td>22</td>\n",
       "      <td>0</td>\n",
       "      <td>21.272727</td>\n",
       "      <td>465.656652</td>\n",
       "      <td>0.994993</td>\n",
       "      <td>224</td>\n",
       "      <td>0.478632</td>\n",
       "      <td>101</td>\n",
       "      <td>0.215812</td>\n",
       "      <td>540</td>\n",
       "      <td>526</td>\n",
       "    </tr>\n",
       "    <tr>\n",
       "      <th>197</th>\n",
       "      <td>1336</td>\n",
       "      <td>1081</td>\n",
       "      <td>214</td>\n",
       "      <td>14</td>\n",
       "      <td>5</td>\n",
       "      <td>0</td>\n",
       "      <td>5.051402</td>\n",
       "      <td>11</td>\n",
       "      <td>0</td>\n",
       "      <td>19.454545</td>\n",
       "      <td>212.990566</td>\n",
       "      <td>0.995283</td>\n",
       "      <td>114</td>\n",
       "      <td>0.532710</td>\n",
       "      <td>63</td>\n",
       "      <td>0.294393</td>\n",
       "      <td>259</td>\n",
       "      <td>256</td>\n",
       "    </tr>\n",
       "    <tr>\n",
       "      <th>198</th>\n",
       "      <td>1171</td>\n",
       "      <td>2094</td>\n",
       "      <td>433</td>\n",
       "      <td>11</td>\n",
       "      <td>12</td>\n",
       "      <td>0</td>\n",
       "      <td>4.836028</td>\n",
       "      <td>19</td>\n",
       "      <td>0</td>\n",
       "      <td>22.789474</td>\n",
       "      <td>426.651090</td>\n",
       "      <td>0.985337</td>\n",
       "      <td>221</td>\n",
       "      <td>0.510393</td>\n",
       "      <td>121</td>\n",
       "      <td>0.279446</td>\n",
       "      <td>501</td>\n",
       "      <td>478</td>\n",
       "    </tr>\n",
       "  </tbody>\n",
       "</table>\n",
       "</div>"
      ],
      "text/plain": [
       "     essayid  chars  words  commas  apostrophes  punctuations  \\\n",
       "194     1226   1208    242       8            8             0   \n",
       "195      862   4039    817      24           11             1   \n",
       "196     1562   2448    468      22            7             0   \n",
       "197     1336   1081    214      14            5             0   \n",
       "198     1171   2094    433      11           12             0   \n",
       "\n",
       "     avg_word_length  sentences  questions  avg_word_sentence         POS  \\\n",
       "194         4.991736         13          0          18.615385  237.327684   \n",
       "195         4.943696         47          2          17.382979  812.656033   \n",
       "196         5.230769         22          0          21.272727  465.656652   \n",
       "197         5.051402         11          0          19.454545  212.990566   \n",
       "198         4.836028         19          0          22.789474  426.651090   \n",
       "\n",
       "     POS/total_words  prompt_words  prompt_words/total_words  synonym_words  \\\n",
       "194         0.980693           135                  0.557851             58   \n",
       "195         0.994683           386                  0.472460            210   \n",
       "196         0.994993           224                  0.478632            101   \n",
       "197         0.995283           114                  0.532710             63   \n",
       "198         0.985337           221                  0.510393            121   \n",
       "\n",
       "     synonym_words/total_words  unstemmed  stemmed  \n",
       "194                   0.239669        244      242  \n",
       "195                   0.257038        750      750  \n",
       "196                   0.215812        540      526  \n",
       "197                   0.294393        259      256  \n",
       "198                   0.279446        501      478  "
      ]
     },
     "execution_count": 45,
     "metadata": {},
     "output_type": "execute_result"
    }
   ],
   "source": [
    "kaggle_data.tail()"
   ]
  },
  {
   "cell_type": "markdown",
   "metadata": {},
   "source": [
    "The most notable thing here is that it differs from the original dataset as it is missing the score column, this is because we are meant to fill this column with the predictions of our trained model. To do this, we must first isolate the useful features and transform it with the scaler that was used for the training set"
   ]
  },
  {
   "cell_type": "code",
   "execution_count": 46,
   "metadata": {},
   "outputs": [],
   "source": [
    "# extract the feature values to be used\n",
    "kaggle_features = kaggle_data.iloc[:, 1:].values\n",
    "# scale the data with the same scaler used for the training and test set\n",
    "X_kaggle = scaler.transform(kaggle_features)"
   ]
  },
  {
   "cell_type": "markdown",
   "metadata": {},
   "source": [
    "Once the features have been properly scaled, we can use the *.predict()* function of the model to obtain the predictions of our trained model for these unlabeled data"
   ]
  },
  {
   "cell_type": "code",
   "execution_count": 47,
   "metadata": {},
   "outputs": [],
   "source": [
    "kaggle_predictions = opt_rfc.predict(X_kaggle)"
   ]
  },
  {
   "cell_type": "markdown",
   "metadata": {},
   "source": [
    "We can take a look at the predictions by displaying the *kaggle_predictions* array"
   ]
  },
  {
   "cell_type": "code",
   "execution_count": 48,
   "metadata": {},
   "outputs": [
    {
     "data": {
      "text/plain": [
       "array([5, 3, 3, 4, 4, 4, 3, 3, 3, 3, 3, 4, 4, 3, 4, 4, 4, 4, 3, 3, 4, 3,\n",
       "       4, 4, 4, 4, 4, 4, 4, 3, 2, 4, 3, 3, 4, 3, 5, 4, 3, 3, 3, 4, 3, 3,\n",
       "       1, 3, 3, 4, 4, 3, 2, 4, 4, 4, 3, 4, 3, 4, 4, 4, 2, 3, 3, 4, 3, 4,\n",
       "       4, 4, 4, 4, 3, 4, 4, 3, 3, 3, 3, 3, 5, 4, 4, 4, 4, 3, 4, 2, 4, 4,\n",
       "       2, 3, 3, 3, 4, 3, 4, 4, 4, 4, 4, 3, 3, 5, 2, 3, 3, 4, 3, 3, 5, 4,\n",
       "       4, 3, 4, 4, 5, 3, 2, 4, 2, 3, 4, 4, 5, 3, 2, 4, 3, 5, 4, 2, 4, 4,\n",
       "       2, 3, 4, 4, 3, 4, 1, 4, 4, 4, 4, 3, 3, 4, 3, 3, 5, 4, 4, 4, 4, 3,\n",
       "       4, 3, 3, 3, 4, 4, 4, 3, 2, 2, 4, 5, 2, 3, 2, 3, 3, 4, 3, 3, 4, 4,\n",
       "       4, 3, 3, 4, 4, 2, 4, 4, 4, 4, 3, 4, 3, 3, 3, 5, 3, 4, 3, 5, 4, 3,\n",
       "       3], dtype=int64)"
      ]
     },
     "execution_count": 48,
     "metadata": {},
     "output_type": "execute_result"
    }
   ],
   "source": [
    "kaggle_predictions"
   ]
  },
  {
   "cell_type": "markdown",
   "metadata": {},
   "source": [
    "We can confirm that only valid scores have been predicted by displaying the maximum and minimum scores predicted and ensuring that they are within the range 1 to 6"
   ]
  },
  {
   "cell_type": "code",
   "execution_count": 49,
   "metadata": {},
   "outputs": [
    {
     "name": "stdout",
     "output_type": "stream",
     "text": [
      "Minimum score predicted: 1\n",
      "Maximum score predicted: 5\n"
     ]
    }
   ],
   "source": [
    "print(\"Minimum score predicted:\", kaggle_predictions.min())\n",
    "print(\"Maximum score predicted:\", kaggle_predictions.max())"
   ]
  },
  {
   "cell_type": "markdown",
   "metadata": {},
   "source": [
    "### &emsp;Output to CSV file"
   ]
  },
  {
   "cell_type": "markdown",
   "metadata": {},
   "source": [
    "To write the results to a csv file, we must first create a DataFrame with the appropriate format:\n",
    "- Columns (2 columns):\n",
    "    - *essayid*: the unique id for that essay\n",
    "    - *score*: the score for that essay\n",
    "- 200 lines:\n",
    "    - 1 header containing the column names\n",
    "    - 199 entries of essay-score pairs\n",
    "    \n",
    "To do this we can extract the essay ids from the *kaggle_data* DataFrame, and append a new column *score* filled with the model's predictions for each essay."
   ]
  },
  {
   "cell_type": "code",
   "execution_count": 50,
   "metadata": {},
   "outputs": [
    {
     "data": {
      "text/html": [
       "<div>\n",
       "<style scoped>\n",
       "    .dataframe tbody tr th:only-of-type {\n",
       "        vertical-align: middle;\n",
       "    }\n",
       "\n",
       "    .dataframe tbody tr th {\n",
       "        vertical-align: top;\n",
       "    }\n",
       "\n",
       "    .dataframe thead th {\n",
       "        text-align: right;\n",
       "    }\n",
       "</style>\n",
       "<table border=\"1\" class=\"dataframe\">\n",
       "  <thead>\n",
       "    <tr style=\"text-align: right;\">\n",
       "      <th></th>\n",
       "      <th>essayid</th>\n",
       "      <th>score</th>\n",
       "    </tr>\n",
       "  </thead>\n",
       "  <tbody>\n",
       "    <tr>\n",
       "      <th>0</th>\n",
       "      <td>1623</td>\n",
       "      <td>5</td>\n",
       "    </tr>\n",
       "    <tr>\n",
       "      <th>1</th>\n",
       "      <td>1143</td>\n",
       "      <td>3</td>\n",
       "    </tr>\n",
       "    <tr>\n",
       "      <th>2</th>\n",
       "      <td>660</td>\n",
       "      <td>3</td>\n",
       "    </tr>\n",
       "    <tr>\n",
       "      <th>3</th>\n",
       "      <td>1596</td>\n",
       "      <td>4</td>\n",
       "    </tr>\n",
       "    <tr>\n",
       "      <th>4</th>\n",
       "      <td>846</td>\n",
       "      <td>4</td>\n",
       "    </tr>\n",
       "    <tr>\n",
       "      <th>...</th>\n",
       "      <td>...</td>\n",
       "      <td>...</td>\n",
       "    </tr>\n",
       "    <tr>\n",
       "      <th>194</th>\n",
       "      <td>1226</td>\n",
       "      <td>3</td>\n",
       "    </tr>\n",
       "    <tr>\n",
       "      <th>195</th>\n",
       "      <td>862</td>\n",
       "      <td>5</td>\n",
       "    </tr>\n",
       "    <tr>\n",
       "      <th>196</th>\n",
       "      <td>1562</td>\n",
       "      <td>4</td>\n",
       "    </tr>\n",
       "    <tr>\n",
       "      <th>197</th>\n",
       "      <td>1336</td>\n",
       "      <td>3</td>\n",
       "    </tr>\n",
       "    <tr>\n",
       "      <th>198</th>\n",
       "      <td>1171</td>\n",
       "      <td>3</td>\n",
       "    </tr>\n",
       "  </tbody>\n",
       "</table>\n",
       "<p>199 rows × 2 columns</p>\n",
       "</div>"
      ],
      "text/plain": [
       "     essayid  score\n",
       "0       1623      5\n",
       "1       1143      3\n",
       "2        660      3\n",
       "3       1596      4\n",
       "4        846      4\n",
       "..       ...    ...\n",
       "194     1226      3\n",
       "195      862      5\n",
       "196     1562      4\n",
       "197     1336      3\n",
       "198     1171      3\n",
       "\n",
       "[199 rows x 2 columns]"
      ]
     },
     "execution_count": 50,
     "metadata": {},
     "output_type": "execute_result"
    }
   ],
   "source": [
    "# extract the essayid column from kaggle_data\n",
    "df_predictions = kaggle_data[\"essayid\"]\n",
    "# convert the Series to a DataFrame\n",
    "df_predictions = df_predictions.to_frame()\n",
    "# create new column score and fill it with the model's predictions\n",
    "df_predictions[\"score\"] = pd.Series(kaggle_predictions)\n",
    "\n",
    "# display the DataFrame\n",
    "df_predictions"
   ]
  },
  {
   "cell_type": "markdown",
   "metadata": {},
   "source": [
    "Now we can write this resulting DataFrame to a csv file by using the *.to_csv()* function"
   ]
  },
  {
   "cell_type": "code",
   "execution_count": 51,
   "metadata": {},
   "outputs": [],
   "source": [
    "# If you want to run the following line of code, uncomment the line and change the path to a valid location in your computer\n",
    "# df_predictions.to_csv(r'C:\\Users\\Lenovo\\Documents\\Monash_Programming\\Sem 1 2021\\FIT1043\\Assignment_2\\31989101-MichelleAdeline-31.csv', index=False)"
   ]
  },
  {
   "cell_type": "markdown",
   "metadata": {},
   "source": [
    "# Conclusion"
   ]
  },
  {
   "cell_type": "markdown",
   "metadata": {},
   "source": [
    "In this report I have read, and analyzed the provided dataset of essay information and I recognized that this problem of automated essay scoring is a multi-class classification problem. Then, I used two supervised machine learning algorithms - Support Vector Machine (SVM) and Random Forest Classifier in order to predict the essay scores. \n",
    "\n",
    "Before feeding the data to both algorithms it was first processed in order to improve performance. This involves feature selection, oversampling, and standardizing/normalizing after splitting the data. When training the models on the training set, I used hyperparameter tuning in order to select the best parameters to obtain the best performing model. Afterwards both models are evaluated by using a confusion matrix and the Quadratic Weighted Kappa metric for which the SVM model received a score of 0.713 for its predictions on the test set and the Random Forest Classifier received a score of 0.72775 from kaggle for its predictions on the unlabeled data provided. \n",
    "\n",
    "With this I have successfully developed two different algorithms capable of automated essay scoring, I learned about and used the Support Vector Machine algorithm to build a model, I understood the importance of preprocessing, oversampling, and choosing the best parameters for a model in order to improve its performance, as well as how to evaluate its accuracy, and I have gained experience in exploring and learning on my own as well as participating in kaggle competitions."
   ]
  },
  {
   "cell_type": "markdown",
   "metadata": {},
   "source": [
    "# References"
   ]
  },
  {
   "cell_type": "markdown",
   "metadata": {},
   "source": [
    "- Amazon Web Services. (n.d.). What is data labeling for machine learning? Retrieved from https://aws.amazon.com/sagemaker/groundtruth/what-is-data-labeling/\n",
    "- Arora, A. (2019). Quadratic Kappa Metric explained in 5 simple steps. Retrieved from https://www.kaggle.com/aroraaman/quadratic-kappa-metric-explained-in-5-simple-steps\n",
    "- Band, A. (2020). Multi-class Classification — One-vs-All & One-vs-One. Retrieved from https://towardsdatascience.com/multi-class-classification-one-vs-all-one-vs-one-94daed32a87b\n",
    "- Brownlee, J. (2020). Supervised and Unsupervised Machine Learning Algorithms. Retrieved from https://machinelearningmastery.com/supervised-and-unsupervised-machine-learning-algorithms/\n",
    "- DataFlair. (n.d.). Kernel Functions-Introduction to SVM Kernel & Examples. Retrieved from https://data-flair.training/blogs/svm-kernel-functions/#:~:text=SVM%20algorithms%20use%20a%20set,it%20into%20the%20required%20form.&text=These%20functions%20can%20be%20different,(RBF)%2C%20and%20sigmoid.\n",
    "- Gandhi, R. (2018). Support Vector Machine — Introduction to Machine Learning Algorithms. Retrieved from https://towardsdatascience.com/support-vector-machine-introduction-to-machine-learning-algorithms-934a444fca47\n",
    "- Google Developers. (2020). Training and Test Sets: Splitting Data. Retrieved from https://developers.google.com/machine-learning/crash-course/training-and-test-sets/splitting-data\n",
    "- Hale, J. (2019). Scale, Standardize, or Normalize with Scikit-Learn. Retrieved from https://towardsdatascience.com/scale-standardize-or-normalize-with-scikit-learn-6ccc7d176a02\n",
    "- IBM Cloud Education. (2020). Supervised Learning. Retrieved from https://www.ibm.com/cloud/learn/supervised-learning\n",
    "- Jaitley, U. (2018). Why Data Normalization is necessary for Machine Learning models. Retrieved from https://medium.com/@urvashilluniya/why-data-normalization-is-necessary-for-machine-learning-models-681b65a05029#:~:text=Normalization%20is%20a%20technique%20often,dataset%20does%20not%20require%20normalization.\n",
    "- Sharp, T. (2020). An Introduction to Support Vector Regression (SVR). Retrieved from https://towardsdatascience.com/an-introduction-to-support-vector-regression-svr-a3ebc1672c2\n",
    "- Suriya. (n.d.). Support Vector Machines – Kernel Explained. Retrieved from https://codingmachinelearning.wordpress.com/2016/07/25/support-vector-machines-kernel-explained/"
   ]
  }
 ],
 "metadata": {
  "kernelspec": {
   "display_name": "Python 3",
   "language": "python",
   "name": "python3"
  },
  "language_info": {
   "codemirror_mode": {
    "name": "ipython",
    "version": 3
   },
   "file_extension": ".py",
   "mimetype": "text/x-python",
   "name": "python",
   "nbconvert_exporter": "python",
   "pygments_lexer": "ipython3",
   "version": "3.8.5"
  }
 },
 "nbformat": 4,
 "nbformat_minor": 4
}
